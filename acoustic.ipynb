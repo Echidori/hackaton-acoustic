{
 "cells": [
  {
   "cell_type": "code",
   "execution_count": 67,
   "metadata": {},
   "outputs": [],
   "source": [
    "# On met ici toutes les bibliothèques utilisées pendant le projet\n",
    "# Si nécessaire, installer les modules manquants en fonction des erreurs\n",
    "# que cette node peut produire (par exemple, tensorflow et pytorch)\n",
    "\n",
    "import librosa\n",
    "import matplotlib.pyplot as plt\n",
    "import numpy as np\n",
    "import os\n",
    "import pandas as pd\n",
    "import s3fs\n",
    "import tensorflow as tf\n",
    "import zipfile\n",
    "from sklearn.linear_model import LinearRegression\n",
    "from sklearn.metrics import mean_squared_error\n",
    "from sklearn.model_selection import train_test_split\n",
    "from sklearn.neighbors import KNeighborsRegressor"
   ]
  },
  {
   "cell_type": "code",
   "execution_count": 8,
   "metadata": {},
   "outputs": [],
   "source": [
    "# Create filesystem object\n",
    "S3_ENDPOINT_URL = \"https://\" + os.environ[\"AWS_S3_ENDPOINT\"]\n",
    "fs = s3fs.S3FileSystem(client_kwargs={'endpoint_url': S3_ENDPOINT_URL})"
   ]
  },
  {
   "cell_type": "code",
   "execution_count": 9,
   "metadata": {},
   "outputs": [
    {
     "data": {
      "text/plain": [
       "['gvimont/diffusion/hackathon-minarm-2024/AIVSAI',\n",
       " 'gvimont/diffusion/hackathon-minarm-2024/Acoustique',\n",
       " 'gvimont/diffusion/hackathon-minarm-2024/Similarité']"
      ]
     },
     "execution_count": 9,
     "metadata": {},
     "output_type": "execute_result"
    }
   ],
   "source": [
    "# Lister les challenges\n",
    "fs.ls(\"gvimont/diffusion/hackathon-minarm-2024\")\n"
   ]
  },
  {
   "cell_type": "code",
   "execution_count": 10,
   "metadata": {},
   "outputs": [
    {
     "data": {
      "text/plain": [
       "['gvimont/diffusion/hackathon-minarm-2024/Acoustique/LivingRoom_preprocessed_hack.zip']"
      ]
     },
     "execution_count": 10,
     "metadata": {},
     "output_type": "execute_result"
    }
   ],
   "source": [
    "# Lister les fichiers d'un challenge\n",
    "fs.ls(\"gvimont/diffusion/hackathon-minarm-2024/Acoustique\")"
   ]
  },
  {
   "cell_type": "code",
   "execution_count": 11,
   "metadata": {},
   "outputs": [
    {
     "data": {
      "text/plain": [
       "[None]"
      ]
     },
     "execution_count": 11,
     "metadata": {},
     "output_type": "execute_result"
    }
   ],
   "source": [
    "# Download the data\n",
    "PATH_IN = 'gvimont/diffusion/hackathon-minarm-2024/Acoustique/LivingRoom_preprocessed_hack.zip'\n",
    "fs.download(PATH_IN, 'data/LivingRoom_preprocessed_hack.zip')"
   ]
  },
  {
   "cell_type": "code",
   "execution_count": 12,
   "metadata": {},
   "outputs": [],
   "source": [
    "# Décompresser les données\n",
    "with zipfile.ZipFile(\"data/LivingRoom_preprocessed_hack.zip\",\"r\") as zip_file:\n",
    "    zip_file.extractall(\"data/\")"
   ]
  },
  {
   "cell_type": "code",
   "execution_count": 13,
   "metadata": {},
   "outputs": [],
   "source": [
    "# Chargement des jeux de données de RIR\n",
    "deconvolved_human1 = np.load('data/LivingRoom_preprocessed_hack/Human1/deconvoled_trim.npy')\n",
    "deconvolved_human2 = np.load('data/LivingRoom_preprocessed_hack/Human2/deconvoled_trim.npy')\n",
    "deconvolved_empty = np.load('data/LivingRoom_preprocessed_hack/Empty/deconvolved.npy')"
   ]
  },
  {
   "cell_type": "code",
   "execution_count": 14,
   "metadata": {},
   "outputs": [
    {
     "name": "stdout",
     "output_type": "stream",
     "text": [
      "Dimensions des données originales du 1er humain:  (1000, 4, 667200)\n",
      "Dimensions de niveaux_rms du 1er humain: (4, 1000)\n",
      "Dimensions des données originales du 2eme humain:  (104, 4, 667200)\n",
      "Dimensions de niveaux_rms du 2eme humain: (4, 104)\n"
     ]
    }
   ],
   "source": [
    "# Calculer les niveaux RMS pour chaque datapoint de chaque micro\n",
    "niveaux_rms_human1 = []\n",
    "niveaux_rms_human2 = []\n",
    "for i in range (4):\n",
    "    niveaux_rms_h1_i = np.sqrt(np.mean(deconvolved_human1[:,i,:]**2, axis=(1)))\n",
    "    niveaux_rms_h2_i = np.sqrt(np.mean(deconvolved_human2[:,i,:]**2, axis=(1)))\n",
    "    niveaux_rms_human1.append(niveaux_rms_h1_i)\n",
    "    niveaux_rms_human2.append(niveaux_rms_h2_i)\n",
    "\n",
    "niveaux_rms_human1 = np.array(niveaux_rms_human1)\n",
    "niveaux_rms_human2 = np.array(niveaux_rms_human2)\n",
    "\n",
    "# Vérifier les dimensions de niveaux_rms\n",
    "print(\"Dimensions des données originales du 1er humain: \", deconvolved_human1.shape)\n",
    "print(\"Dimensions de niveaux_rms du 1er humain:\", niveaux_rms_human1.shape)\n",
    "print(\"Dimensions des données originales du 2eme humain: \", deconvolved_human2.shape)\n",
    "print(\"Dimensions de niveaux_rms du 2eme humain:\", niveaux_rms_human2.shape)"
   ]
  },
  {
   "cell_type": "code",
   "execution_count": 15,
   "metadata": {},
   "outputs": [],
   "source": [
    "# Chargement des jeux de données de positions\n",
    "centroid_human1 = np.load('data/LivingRoom_preprocessed_hack/Human1/centroid.npy')\n",
    "centroid_human2 = np.load('data/LivingRoom_preprocessed_hack/Human2/centroid.npy')"
   ]
  },
  {
   "cell_type": "code",
   "execution_count": 16,
   "metadata": {},
   "outputs": [
    {
     "name": "stdout",
     "output_type": "stream",
     "text": [
      "(1000, 2)\n",
      "(104, 2)\n"
     ]
    }
   ],
   "source": [
    "# Vérification des shapes des données récupérées\n",
    "print(centroid_human1.shape)\n",
    "print(centroid_human2.shape)"
   ]
  },
  {
   "cell_type": "code",
   "execution_count": 17,
   "metadata": {},
   "outputs": [
    {
     "name": "stdout",
     "output_type": "stream",
     "text": [
      "(4, 1104)\n",
      "(1104, 2)\n"
     ]
    }
   ],
   "source": [
    "# Mise en commun de human1 et human2 en un seul jeu de donnée pour les RMS et les positions\n",
    "niveaux_rms = np.concatenate((niveaux_rms_human1, niveaux_rms_human2), axis=1)\n",
    "\n",
    "# on transpose les arrays avec .T pour éviter les conflits pendant la mise en commun,\n",
    "# puis on retranspose derrière\n",
    "positions = np.concatenate((centroid_human1.T, centroid_human2.T), axis=1)\n",
    "positions = positions.T\n",
    "\n",
    "#vérification des shapes de la mise en commun\n",
    "print(niveaux_rms.shape)\n",
    "print(positions.shape)"
   ]
  },
  {
   "cell_type": "code",
   "execution_count": 70,
   "metadata": {},
   "outputs": [
    {
     "name": "stdout",
     "output_type": "stream",
     "text": [
      "(883, 4)\n",
      "(883, 3)\n",
      "(883, 2)\n",
      "(883, 1)\n"
     ]
    }
   ],
   "source": [
    "# Préparation des données pour l'entrainement\n",
    "\n",
    "# X : données de niveaux RMS (4, N_datapoints)\n",
    "# y : données de position (N_datapoints, 2)\n",
    "\n",
    "# Diviser les données en ensembles d'entraînement et de test\n",
    "# On transpose X pour avoir N_datapoints en premier pour les deux datasets\n",
    "X_train, X_test, y_train, y_test = train_test_split(niveaux_rms.T, positions, test_size=0.2, random_state=42)\n",
    "\n",
    "# Réduire les données à 3, 2 et 1 micro pour faire des comparaisons avec le nombre de micros\n",
    "# Division des données au nombre de micros respectifs en ensembles d'entraînement et de test également\n",
    "X_train_3, X_test_3, y_train_3, y_test_3 = train_test_split(niveaux_rms[0:3,:].T, positions, test_size=0.2, random_state=42)\n",
    "X_train_2, X_test_2, y_train_2, y_test_2 = train_test_split(niveaux_rms[0:2,:].T, positions, test_size=0.2, random_state=42)\n",
    "X_train_1, X_test_1, y_train_1, y_test_1 = train_test_split(niveaux_rms[0:1,:].T, positions, test_size=0.2, random_state=42)\n",
    "\n",
    "# Vérification que les données divisées aient bien la bonne shape pour s'entrainer et tester les modèles au nombre de micros voulus\n",
    "# Rappel: Shape des données = (N_datapoints, N_micros)\n",
    "print(X_train.shape)\n",
    "print(X_train_3.shape)\n",
    "print(X_train_2.shape)\n",
    "print(X_train_1.shape)\n"
   ]
  },
  {
   "cell_type": "markdown",
   "metadata": {},
   "source": [
    "## Algorithmes utilisés:\n",
    " - KNN \n",
    " - Linear Regression\n",
    " - CNN classique\n",
    " - VGGish\n",
    "\n",
    "KNN et la régression linéaire étant tous les deux utilisés dans le papier, ils seront comparés aux résultats du livre pour le nombre de microphones correspondants. CNN ne sera utilisé qu'avec 4 microphones, pas moins."
   ]
  },
  {
   "cell_type": "code",
   "execution_count": 58,
   "metadata": {},
   "outputs": [],
   "source": [
    "# Implémentation de KNN\n",
    "\n",
    "# Choix des voisins: 4, car c'est celui qui minimise la distance moyenne pour les 4 micros\n",
    "# On considère les 4 micros comme le \"standard\" pour l'entrainement et la création des modèles qui suivent\n",
    "\n",
    "knn = KNeighborsRegressor(n_neighbors=4)\n",
    "knn_3 = KNeighborsRegressor(n_neighbors=4)\n",
    "knn_2 = KNeighborsRegressor(n_neighbors=4)\n",
    "knn_1 = KNeighborsRegressor(n_neighbors=4)\n",
    "\n",
    "# Entrainement du modèle knn pour 4 à 1 micro\n",
    "knn.fit(X_train, y_train)\n",
    "knn_3.fit(X_train_3, y_train_3)\n",
    "knn_2.fit(X_train_2, y_train_2)\n",
    "knn_1.fit(X_train_1, y_train_1)\n",
    "\n",
    "# Prediction des positions pour chaque knn\n",
    "predictions = knn.predict(X_test)\n",
    "predictions_3 = knn_3.predict(X_test_3)\n",
    "predictions_2 = knn_2.predict(X_test_2)\n",
    "predictions_1 = knn_1.predict(X_test_1)"
   ]
  },
  {
   "cell_type": "code",
   "execution_count": 59,
   "metadata": {},
   "outputs": [
    {
     "name": "stdout",
     "output_type": "stream",
     "text": [
      "KNN distance moyenne par rapport à la position réelle pour 4 microphones: 62.4 cm, écart-type: 64.25 cm\n",
      "KNN distance moyenne par rapport à la position réelle pour 3 microphones: 79.55 cm, écart-type: 71.57 cm\n",
      "KNN distance moyenne par rapport à la position réelle pour 2 microphones: 93.68 cm, écart-type: 68.5 cm\n",
      "KNN distance moyenne par rapport à la position réelle pour 1 microphone: 103.44 cm, écart-type: 72.9 cm\n"
     ]
    }
   ],
   "source": [
    "# Evaluation (moyenne de la distance des prédictions par rapport aux distances réelles)\n",
    "# On divise par 10 car les résultats sont en milimètres (nous voulons des centimètres pour comparer avec le livre)\n",
    "knn_eval = np.mean(np.abs(y_test - predictions)) /10\n",
    "knn_eval_3 = np.mean(np.abs(y_test_3 - predictions_3)) /10\n",
    "knn_eval_2 = np.mean(np.abs(y_test_2 - predictions_2)) /10\n",
    "knn_eval_1 = np.mean(np.abs(y_test_1 - predictions_1)) /10\n",
    "\n",
    "# Calcul de l'ecart-type, pour indiquer l'écart des prédictions par rapport à la moyenne\n",
    "knn_std = np.std(np.abs(y_test - predictions)) /10\n",
    "knn_std_3 = np.std(np.abs(y_test_3 - predictions_3)) /10\n",
    "knn_std_2 = np.std(np.abs(y_test_2 - predictions_2)) /10\n",
    "knn_std_1 = np.std(np.abs(y_test_1 - predictions_1)) /10\n",
    "\n",
    "# Comparaison des résultats pour le nombre de micros pour les KNN\n",
    "# Pour comparer les résultats au papier, on passe les données en cm\n",
    "# On arrondit également à deux chiffres après la virgule\n",
    "print(\"KNN distance moyenne par rapport à la position réelle pour 4 microphones:\", np.round(knn_eval, 2), \"cm, écart-type:\", np.round(knn_std, 2), \"cm\")\n",
    "print(\"KNN distance moyenne par rapport à la position réelle pour 3 microphones:\", np.round(knn_eval_3, 2), \"cm, écart-type:\", np.round(knn_std_3, 2), \"cm\")\n",
    "print(\"KNN distance moyenne par rapport à la position réelle pour 2 microphones:\", np.round(knn_eval_2, 2), \"cm, écart-type:\", np.round(knn_std_2, 2), \"cm\")\n",
    "print(\"KNN distance moyenne par rapport à la position réelle pour 1 microphone:\", np.round(knn_eval_1, 2), \"cm, écart-type:\", np.round(knn_std_1, 2), \"cm\")"
   ]
  },
  {
   "cell_type": "code",
   "execution_count": 60,
   "metadata": {},
   "outputs": [],
   "source": [
    "# Implémentation de régression linéaire\n",
    "\n",
    "# Création du modèle de regression linéaire\n",
    "linear_regression = LinearRegression()\n",
    "linear_regression_3 = LinearRegression()\n",
    "linear_regression_2 = LinearRegression()\n",
    "linear_regression_1 = LinearRegression()\n",
    "\n",
    "# Entrainement des modèles\n",
    "linear_regression.fit(X_train, y_train)\n",
    "linear_regression_3.fit(X_train_3, y_train_3)\n",
    "linear_regression_2.fit(X_train_2, y_train_2)\n",
    "linear_regression_1.fit(X_train_1, y_train_1)\n",
    "\n",
    "# Predictions des positions pour chaque modèle\n",
    "predictions = linear_regression.predict(X_test)\n",
    "predictions_3 = linear_regression_3.predict(X_test_3)\n",
    "predictions_2 = linear_regression_2.predict(X_test_2)\n",
    "predictions_1 = linear_regression_1.predict(X_test_1)"
   ]
  },
  {
   "cell_type": "code",
   "execution_count": 61,
   "metadata": {},
   "outputs": [
    {
     "name": "stdout",
     "output_type": "stream",
     "text": [
      "Linear Regression distance moyenne par rapport à la position réelle pour 4 microphones: 95.93 cm, écart-type: 63.78 cm\n",
      "Linear Regression distance moyenne par rapport à la position réelle pour 3 microphones: 100.03 cm, écart-type: 65.88 cm\n",
      "Linear Regression distance moyenne par rapport à la position réelle pour 2 microphones: 101.67 cm, écart-type: 65.72 cm\n",
      "Linear Regression distance moyenne par rapport à la position réelle pour 1 microphone: 104.03 cm, écart-type: 64.52 cm\n"
     ]
    }
   ],
   "source": [
    "# Evaluation (moyenne de la distance des prédictions par rapport aux distances réelles)\n",
    "# On divise par 10 car les résultats sont en milimètres (nous voulons des centimètres pour comparer avec le livre)\n",
    "lr_eval = np.mean(np.abs(y_test - predictions)) /10\n",
    "lr_eval_3 = np.mean(np.abs(y_test_3 - predictions_3)) /10\n",
    "lr_eval_2 = np.mean(np.abs(y_test_2 - predictions_2)) /10\n",
    "lr_eval_1 = np.mean(np.abs(y_test_1 - predictions_1)) /10\n",
    "\n",
    "# Calcul de l'ecart-type, pour indiquer l'écart des prédictions par rapport à la moyenne\n",
    "lr_std = np.std(np.abs(y_test - predictions)) /10\n",
    "lr_std_3 = np.std(np.abs(y_test_3 - predictions_3)) /10\n",
    "lr_std_2 = np.std(np.abs(y_test_2 - predictions_2)) /10\n",
    "lr_std_1 = np.std(np.abs(y_test_1 - predictions_1)) /10\n",
    "\n",
    "# Comparaison des résultats pour le nombre de micros\n",
    "# On arrondit également à deux chiffres après la virgule\n",
    "print(\"Linear Regression distance moyenne par rapport à la position réelle pour 4 microphones:\", np.round(lr_eval, 2), \"cm, écart-type:\", np.round(lr_std, 2), \"cm\")\n",
    "print(\"Linear Regression distance moyenne par rapport à la position réelle pour 3 microphones:\", np.round(lr_eval_3, 2), \"cm, écart-type:\", np.round(lr_std_3, 2), \"cm\")\n",
    "print(\"Linear Regression distance moyenne par rapport à la position réelle pour 2 microphones:\", np.round(lr_eval_2, 2), \"cm, écart-type:\", np.round(lr_std_2, 2), \"cm\")\n",
    "print(\"Linear Regression distance moyenne par rapport à la position réelle pour 1 microphone:\", np.round(lr_eval_1, 2), \"cm, écart-type:\", np.round(lr_std_1, 2), \"cm\")"
   ]
  },
  {
   "cell_type": "markdown",
   "metadata": {},
   "source": [
    "### Comparaison des résultats en fonction du nombre de micros avec les résultats du papier sur les modèles en commun\n",
    "Comme on peut le constater, en mettant nos résultats dans le même format que ceux du papier (en passant de mm en cm), on peut vérifier que nos résultats sont comparables à ceux du papier en terme d'ordre de grandeur, comme l'illustre le plot de comparaison de la prochaine node.\n",
    "\n",
    "Similairement, on remarque que le nombre de micros a une influence plus ou moins grande sur la précision des prédictions:\n",
    "On voit clairement que, bien que le KNN soit le plus précis pour 4 micros, il est également celui qui montre un plus grand écart dans la précision des prédictions en baissant le nombre de microphones, alors que la régression linéaire reste relativement constante dans sa performance.\n",
    "\n",
    "Peu importe le modèle, il est clair que la précision des prédictions est directement corrélée au nombre de micros utilisés."
   ]
  },
  {
   "cell_type": "code",
   "execution_count": 65,
   "metadata": {},
   "outputs": [
    {
     "data": {
      "image/png": "[encoded data removed]",
      "text/plain": [
       "<Figure size 640x480 with 1 Axes>"
      ]
     },
     "metadata": {},
     "output_type": "display_data"
    }
   ],
   "source": [
    "# Plot des résultats de KNN et Linear Regression face aux résultats du livre\n",
    "\n",
    "# Création des arrays contenant les distances moyennes,\n",
    "# de nos résultats et de ceux du livre\n",
    "# Attention: nous ne mettons pas nos résultats pour 3 micros car le livre non plus\n",
    "knn_avg_dists = [knn_eval_1, knn_eval_2, knn_eval]\n",
    "lr_avg_dists = [lr_eval_1, lr_eval_2, lr_eval]\n",
    "knn_book = [157.3, 123.0, 93.2]\n",
    "lr_book = [168.4, 165.3, 154.5]\n",
    "\n",
    "# Simple array du nombres de microphones\n",
    "microphone_counts = [1, 2, 4]\n",
    "\n",
    "plt.plot(microphone_counts, knn_avg_dists, marker='o', color='skyblue', linestyle='-', label=\"KNN\")\n",
    "plt.plot(microphone_counts, lr_avg_dists, marker='o', color='orange', linestyle='-', label=\"Linear Regression\")\n",
    "plt.plot(microphone_counts, knn_book, marker='o', color='blue', linestyle='-', label=\"KNN du livre\")\n",
    "plt.plot(microphone_counts, lr_book, marker='o', color='red', linestyle='-', label=\"Linear Regression du livre\")\n",
    "plt.xticks(microphone_counts)\n",
    "plt.xlabel('Nombre de micros')\n",
    "plt.ylabel('Distance moyenne')\n",
    "plt.title('Distance moyenne de la prédiction de la position réelle en fonction du modèle et du nombre de microphones')\n",
    "plt.legend()\n",
    "plt.show()"
   ]
  },
  {
   "cell_type": "code",
   "execution_count": 25,
   "metadata": {},
   "outputs": [
    {
     "name": "stderr",
     "output_type": "stream",
     "text": [
      "/opt/mamba/lib/python3.11/site-packages/keras/src/layers/reshaping/reshape.py:39: UserWarning: Do not pass an `input_shape`/`input_dim` argument to a layer. When using Sequential models, prefer using an `Input(shape)` object as the first layer in the model instead.\n",
      "  super().__init__(**kwargs)\n"
     ]
    }
   ],
   "source": [
    "# Implementation CNN avec Tensorflow\n",
    "\n",
    "# Definition de l'architecture du Convolution Neural Network\n",
    "model = tf.keras.Sequential([\n",
    "    tf.keras.layers.Reshape((4, 1), input_shape=(4,)),\n",
    "    tf.keras.layers.Conv1D(64, kernel_size=1, activation='relu'),\n",
    "    tf.keras.layers.MaxPooling1D(pool_size=2),\n",
    "    tf.keras.layers.Flatten(),\n",
    "    tf.keras.layers.Dense(128, activation='relu'),\n",
    "    tf.keras.layers.Dense(2)\n",
    "])\n",
    "\n",
    "# Compile the model\n",
    "model.compile(optimizer='adam', loss='mse')\n"
   ]
  },
  {
   "cell_type": "code",
   "execution_count": 26,
   "metadata": {},
   "outputs": [
    {
     "name": "stdout",
     "output_type": "stream",
     "text": [
      "Epoch 1/50\n"
     ]
    },
    {
     "name": "stdout",
     "output_type": "stream",
     "text": [
      "\u001b[1m71/71\u001b[0m \u001b[32m━━━━━━━━━━━━━━━━━━━━\u001b[0m\u001b[37m\u001b[0m \u001b[1m1s\u001b[0m 9ms/step - loss: 3892013.7500 - val_loss: 4062500.2500\n",
      "Epoch 2/50\n",
      "\u001b[1m71/71\u001b[0m \u001b[32m━━━━━━━━━━━━━━━━━━━━\u001b[0m\u001b[37m\u001b[0m \u001b[1m0s\u001b[0m 6ms/step - loss: 3867047.7500 - val_loss: 3999476.5000\n",
      "Epoch 3/50\n",
      "\u001b[1m71/71\u001b[0m \u001b[32m━━━━━━━━━━━━━━━━━━━━\u001b[0m\u001b[37m\u001b[0m \u001b[1m1s\u001b[0m 7ms/step - loss: 3721194.7500 - val_loss: 3810578.0000\n",
      "Epoch 4/50\n",
      "\u001b[1m71/71\u001b[0m \u001b[32m━━━━━━━━━━━━━━━━━━━━\u001b[0m\u001b[37m\u001b[0m \u001b[1m1s\u001b[0m 7ms/step - loss: 3573437.5000 - val_loss: 3450958.0000\n",
      "Epoch 5/50\n",
      "\u001b[1m71/71\u001b[0m \u001b[32m━━━━━━━━━━━━━━━━━━━━\u001b[0m\u001b[37m\u001b[0m \u001b[1m1s\u001b[0m 7ms/step - loss: 3226215.0000 - val_loss: 2946479.0000\n",
      "Epoch 6/50\n",
      "\u001b[1m71/71\u001b[0m \u001b[32m━━━━━━━━━━━━━━━━━━━━\u001b[0m\u001b[37m\u001b[0m \u001b[1m1s\u001b[0m 7ms/step - loss: 2500107.5000 - val_loss: 2407075.5000\n",
      "Epoch 7/50\n",
      "\u001b[1m71/71\u001b[0m \u001b[32m━━━━━━━━━━━━━━━━━━━━\u001b[0m\u001b[37m\u001b[0m \u001b[1m1s\u001b[0m 7ms/step - loss: 2201976.0000 - val_loss: 1965420.1250\n",
      "Epoch 8/50\n",
      "\u001b[1m71/71\u001b[0m \u001b[32m━━━━━━━━━━━━━━━━━━━━\u001b[0m\u001b[37m\u001b[0m \u001b[1m1s\u001b[0m 7ms/step - loss: 1818422.7500 - val_loss: 1699537.0000\n",
      "Epoch 9/50\n",
      "\u001b[1m71/71\u001b[0m \u001b[32m━━━━━━━━━━━━━━━━━━━━\u001b[0m\u001b[37m\u001b[0m \u001b[1m1s\u001b[0m 7ms/step - loss: 1671894.2500 - val_loss: 1580463.3750\n",
      "Epoch 10/50\n",
      "\u001b[1m71/71\u001b[0m \u001b[32m━━━━━━━━━━━━━━━━━━━━\u001b[0m\u001b[37m\u001b[0m \u001b[1m1s\u001b[0m 7ms/step - loss: 1653073.0000 - val_loss: 1533374.7500\n",
      "Epoch 11/50\n",
      "\u001b[1m71/71\u001b[0m \u001b[32m━━━━━━━━━━━━━━━━━━━━\u001b[0m\u001b[37m\u001b[0m \u001b[1m1s\u001b[0m 7ms/step - loss: 1611745.2500 - val_loss: 1518845.6250\n",
      "Epoch 12/50\n",
      "\u001b[1m71/71\u001b[0m \u001b[32m━━━━━━━━━━━━━━━━━━━━\u001b[0m\u001b[37m\u001b[0m \u001b[1m1s\u001b[0m 7ms/step - loss: 1553646.2500 - val_loss: 1515228.0000\n",
      "Epoch 13/50\n",
      "\u001b[1m71/71\u001b[0m \u001b[32m━━━━━━━━━━━━━━━━━━━━\u001b[0m\u001b[37m\u001b[0m \u001b[1m1s\u001b[0m 7ms/step - loss: 1555996.2500 - val_loss: 1517621.7500\n",
      "Epoch 14/50\n",
      "\u001b[1m71/71\u001b[0m \u001b[32m━━━━━━━━━━━━━━━━━━━━\u001b[0m\u001b[37m\u001b[0m \u001b[1m1s\u001b[0m 7ms/step - loss: 1512062.6250 - val_loss: 1517769.3750\n",
      "Epoch 15/50\n",
      "\u001b[1m71/71\u001b[0m \u001b[32m━━━━━━━━━━━━━━━━━━━━\u001b[0m\u001b[37m\u001b[0m \u001b[1m1s\u001b[0m 7ms/step - loss: 1562290.0000 - val_loss: 1518736.2500\n",
      "Epoch 16/50\n",
      "\u001b[1m71/71\u001b[0m \u001b[32m━━━━━━━━━━━━━━━━━━━━\u001b[0m\u001b[37m\u001b[0m \u001b[1m1s\u001b[0m 7ms/step - loss: 1538671.1250 - val_loss: 1523650.0000\n",
      "Epoch 17/50\n",
      "\u001b[1m71/71\u001b[0m \u001b[32m━━━━━━━━━━━━━━━━━━━━\u001b[0m\u001b[37m\u001b[0m \u001b[1m1s\u001b[0m 7ms/step - loss: 1570093.1250 - val_loss: 1521142.3750\n",
      "Epoch 18/50\n",
      "\u001b[1m71/71\u001b[0m \u001b[32m━━━━━━━━━━━━━━━━━━━━\u001b[0m\u001b[37m\u001b[0m \u001b[1m1s\u001b[0m 7ms/step - loss: 1538295.7500 - val_loss: 1524106.5000\n",
      "Epoch 19/50\n",
      "\u001b[1m71/71\u001b[0m \u001b[32m━━━━━━━━━━━━━━━━━━━━\u001b[0m\u001b[37m\u001b[0m \u001b[1m1s\u001b[0m 7ms/step - loss: 1496580.2500 - val_loss: 1523005.2500\n",
      "Epoch 20/50\n",
      "\u001b[1m71/71\u001b[0m \u001b[32m━━━━━━━━━━━━━━━━━━━━\u001b[0m\u001b[37m\u001b[0m \u001b[1m1s\u001b[0m 7ms/step - loss: 1531739.3750 - val_loss: 1525665.1250\n",
      "Epoch 21/50\n",
      "\u001b[1m71/71\u001b[0m \u001b[32m━━━━━━━━━━━━━━━━━━━━\u001b[0m\u001b[37m\u001b[0m \u001b[1m1s\u001b[0m 7ms/step - loss: 1460530.0000 - val_loss: 1524719.3750\n",
      "Epoch 22/50\n",
      "\u001b[1m71/71\u001b[0m \u001b[32m━━━━━━━━━━━━━━━━━━━━\u001b[0m\u001b[37m\u001b[0m \u001b[1m1s\u001b[0m 7ms/step - loss: 1571901.1250 - val_loss: 1524275.0000\n",
      "Epoch 23/50\n",
      "\u001b[1m71/71\u001b[0m \u001b[32m━━━━━━━━━━━━━━━━━━━━\u001b[0m\u001b[37m\u001b[0m \u001b[1m1s\u001b[0m 7ms/step - loss: 1648557.7500 - val_loss: 1525254.7500\n",
      "Epoch 24/50\n",
      "\u001b[1m71/71\u001b[0m \u001b[32m━━━━━━━━━━━━━━━━━━━━\u001b[0m\u001b[37m\u001b[0m \u001b[1m1s\u001b[0m 7ms/step - loss: 1582683.8750 - val_loss: 1524325.3750\n",
      "Epoch 25/50\n",
      "\u001b[1m71/71\u001b[0m \u001b[32m━━━━━━━━━━━━━━━━━━━━\u001b[0m\u001b[37m\u001b[0m \u001b[1m1s\u001b[0m 7ms/step - loss: 1530062.3750 - val_loss: 1525638.7500\n",
      "Epoch 26/50\n",
      "\u001b[1m71/71\u001b[0m \u001b[32m━━━━━━━━━━━━━━━━━━━━\u001b[0m\u001b[37m\u001b[0m \u001b[1m1s\u001b[0m 7ms/step - loss: 1526036.7500 - val_loss: 1526173.1250\n",
      "Epoch 27/50\n",
      "\u001b[1m71/71\u001b[0m \u001b[32m━━━━━━━━━━━━━━━━━━━━\u001b[0m\u001b[37m\u001b[0m \u001b[1m1s\u001b[0m 7ms/step - loss: 1506587.8750 - val_loss: 1526661.7500\n",
      "Epoch 28/50\n",
      "\u001b[1m71/71\u001b[0m \u001b[32m━━━━━━━━━━━━━━━━━━━━\u001b[0m\u001b[37m\u001b[0m \u001b[1m1s\u001b[0m 7ms/step - loss: 1616727.1250 - val_loss: 1526026.8750\n",
      "Epoch 29/50\n",
      "\u001b[1m71/71\u001b[0m \u001b[32m━━━━━━━━━━━━━━━━━━━━\u001b[0m\u001b[37m\u001b[0m \u001b[1m1s\u001b[0m 7ms/step - loss: 1518173.7500 - val_loss: 1525666.3750\n",
      "Epoch 30/50\n",
      "\u001b[1m71/71\u001b[0m \u001b[32m━━━━━━━━━━━━━━━━━━━━\u001b[0m\u001b[37m\u001b[0m \u001b[1m1s\u001b[0m 7ms/step - loss: 1513912.0000 - val_loss: 1527152.8750\n",
      "Epoch 31/50\n",
      "\u001b[1m71/71\u001b[0m \u001b[32m━━━━━━━━━━━━━━━━━━━━\u001b[0m\u001b[37m\u001b[0m \u001b[1m1s\u001b[0m 7ms/step - loss: 1524740.6250 - val_loss: 1524306.5000\n",
      "Epoch 32/50\n",
      "\u001b[1m71/71\u001b[0m \u001b[32m━━━━━━━━━━━━━━━━━━━━\u001b[0m\u001b[37m\u001b[0m \u001b[1m1s\u001b[0m 7ms/step - loss: 1515186.0000 - val_loss: 1524612.1250\n",
      "Epoch 33/50\n",
      "\u001b[1m71/71\u001b[0m \u001b[32m━━━━━━━━━━━━━━━━━━━━\u001b[0m\u001b[37m\u001b[0m \u001b[1m1s\u001b[0m 7ms/step - loss: 1553564.6250 - val_loss: 1525269.7500\n",
      "Epoch 34/50\n",
      "\u001b[1m71/71\u001b[0m \u001b[32m━━━━━━━━━━━━━━━━━━━━\u001b[0m\u001b[37m\u001b[0m \u001b[1m1s\u001b[0m 7ms/step - loss: 1551527.5000 - val_loss: 1525029.0000\n",
      "Epoch 35/50\n",
      "\u001b[1m71/71\u001b[0m \u001b[32m━━━━━━━━━━━━━━━━━━━━\u001b[0m\u001b[37m\u001b[0m \u001b[1m1s\u001b[0m 7ms/step - loss: 1564752.0000 - val_loss: 1525486.2500\n",
      "Epoch 36/50\n",
      "\u001b[1m71/71\u001b[0m \u001b[32m━━━━━━━━━━━━━━━━━━━━\u001b[0m\u001b[37m\u001b[0m \u001b[1m1s\u001b[0m 7ms/step - loss: 1494145.1250 - val_loss: 1525136.8750\n",
      "Epoch 37/50\n",
      "\u001b[1m71/71\u001b[0m \u001b[32m━━━━━━━━━━━━━━━━━━━━\u001b[0m\u001b[37m\u001b[0m \u001b[1m0s\u001b[0m 5ms/step - loss: 1583339.5000 - val_loss: 1527028.1250\n",
      "Epoch 38/50\n",
      "\u001b[1m71/71\u001b[0m \u001b[32m━━━━━━━━━━━━━━━━━━━━\u001b[0m\u001b[37m\u001b[0m \u001b[1m0s\u001b[0m 5ms/step - loss: 1500424.2500 - val_loss: 1527298.5000\n",
      "Epoch 39/50\n",
      "\u001b[1m71/71\u001b[0m \u001b[32m━━━━━━━━━━━━━━━━━━━━\u001b[0m\u001b[37m\u001b[0m \u001b[1m0s\u001b[0m 5ms/step - loss: 1529867.1250 - val_loss: 1527227.2500\n",
      "Epoch 40/50\n",
      "\u001b[1m71/71\u001b[0m \u001b[32m━━━━━━━━━━━━━━━━━━━━\u001b[0m\u001b[37m\u001b[0m \u001b[1m0s\u001b[0m 5ms/step - loss: 1560688.2500 - val_loss: 1526052.5000\n",
      "Epoch 41/50\n",
      "\u001b[1m71/71\u001b[0m \u001b[32m━━━━━━━━━━━━━━━━━━━━\u001b[0m\u001b[37m\u001b[0m \u001b[1m0s\u001b[0m 6ms/step - loss: 1550153.1250 - val_loss: 1527029.7500\n",
      "Epoch 42/50\n",
      "\u001b[1m71/71\u001b[0m \u001b[32m━━━━━━━━━━━━━━━━━━━━\u001b[0m\u001b[37m\u001b[0m \u001b[1m1s\u001b[0m 7ms/step - loss: 1541019.5000 - val_loss: 1527672.7500\n",
      "Epoch 43/50\n",
      "\u001b[1m71/71\u001b[0m \u001b[32m━━━━━━━━━━━━━━━━━━━━\u001b[0m\u001b[37m\u001b[0m \u001b[1m0s\u001b[0m 5ms/step - loss: 1552276.5000 - val_loss: 1526003.8750\n",
      "Epoch 44/50\n",
      "\u001b[1m71/71\u001b[0m \u001b[32m━━━━━━━━━━━━━━━━━━━━\u001b[0m\u001b[37m\u001b[0m \u001b[1m0s\u001b[0m 5ms/step - loss: 1533706.3750 - val_loss: 1525596.3750\n",
      "Epoch 45/50\n",
      "\u001b[1m71/71\u001b[0m \u001b[32m━━━━━━━━━━━━━━━━━━━━\u001b[0m\u001b[37m\u001b[0m \u001b[1m0s\u001b[0m 5ms/step - loss: 1549022.8750 - val_loss: 1527370.1250\n",
      "Epoch 46/50\n",
      "\u001b[1m71/71\u001b[0m \u001b[32m━━━━━━━━━━━━━━━━━━━━\u001b[0m\u001b[37m\u001b[0m \u001b[1m0s\u001b[0m 5ms/step - loss: 1493364.0000 - val_loss: 1525898.1250\n",
      "Epoch 47/50\n",
      "\u001b[1m71/71\u001b[0m \u001b[32m━━━━━━━━━━━━━━━━━━━━\u001b[0m\u001b[37m\u001b[0m \u001b[1m0s\u001b[0m 5ms/step - loss: 1555682.5000 - val_loss: 1525680.8750\n",
      "Epoch 48/50\n",
      "\u001b[1m71/71\u001b[0m \u001b[32m━━━━━━━━━━━━━━━━━━━━\u001b[0m\u001b[37m\u001b[0m \u001b[1m0s\u001b[0m 5ms/step - loss: 1562058.7500 - val_loss: 1525953.5000\n",
      "Epoch 49/50\n",
      "\u001b[1m71/71\u001b[0m \u001b[32m━━━━━━━━━━━━━━━━━━━━\u001b[0m\u001b[37m\u001b[0m \u001b[1m0s\u001b[0m 5ms/step - loss: 1552973.8750 - val_loss: 1525549.8750\n",
      "Epoch 50/50\n",
      "\u001b[1m71/71\u001b[0m \u001b[32m━━━━━━━━━━━━━━━━━━━━\u001b[0m\u001b[37m\u001b[0m \u001b[1m0s\u001b[0m 5ms/step - loss: 1574019.2500 - val_loss: 1525727.5000\n"
     ]
    }
   ],
   "source": [
    "# Train the model\n",
    "history = model.fit(X_train, y_train, validation_split=0.2, epochs=50, batch_size=10)\n"
   ]
  },
  {
   "cell_type": "code",
   "execution_count": 27,
   "metadata": {},
   "outputs": [
    {
     "name": "stdout",
     "output_type": "stream",
     "text": [
      "\u001b[1m7/7\u001b[0m \u001b[32m━━━━━━━━━━━━━━━━━━━━\u001b[0m\u001b[37m\u001b[0m \u001b[1m0s\u001b[0m 12ms/step\n",
      "Average Euclidean distance from actual positions: 1631.07 mm\n"
     ]
    }
   ],
   "source": [
    "# Evaluate the model on the test set\n",
    "#test_loss = model.evaluate(X_test_scaled, y_test)\n",
    "#print(\"Test loss (MSE):\", test_loss)\n",
    "\n",
    "from sklearn.metrics import mean_squared_error\n",
    "import numpy as np\n",
    "\n",
    "# Calculate predictions\n",
    "predictions = model.predict(X_test)\n",
    "\n",
    "# Calculate Euclidean distance between the predicted and actual positions\n",
    "errors = np.sqrt(np.sum((y_test - predictions)**2, axis=1))\n",
    "average_error = np.mean(errors)\n",
    "\n",
    "print(\"Average Euclidean distance from actual positions: {:.2f} mm\".format(average_error))\n",
    "\n"
   ]
  },
  {
   "cell_type": "code",
   "execution_count": 28,
   "metadata": {},
   "outputs": [
    {
     "data": {
      "image/png": "[encoded data removed]",
      "text/plain": [
       "<Figure size 640x480 with 1 Axes>"
      ]
     },
     "metadata": {},
     "output_type": "display_data"
    }
   ],
   "source": [
    "import matplotlib.pyplot as plt\n",
    "\n",
    "# Plot training & validation loss values\n",
    "plt.plot(history.history['loss'], label='Train')\n",
    "plt.plot(history.history['val_loss'], label='Validation')\n",
    "plt.title('Model loss')\n",
    "plt.ylabel('Loss')\n",
    "plt.xlabel('Epoch')\n",
    "plt.legend(loc='upper right')\n",
    "plt.show()"
   ]
  },
  {
   "cell_type": "code",
   "execution_count": null,
   "metadata": {},
   "outputs": [],
   "source": [
    "# Implementation VGGish\n",
    "# Une partie du code est disponible sur le github du papier présenté\n",
    "\n",
    "\n"
   ]
  }
 ],
 "metadata": {
  "kernelspec": {
   "display_name": "base",
   "language": "python",
   "name": "python3"
  },
  "language_info": {
   "codemirror_mode": {
    "name": "ipython",
    "version": 3
   },
   "file_extension": ".py",
   "mimetype": "text/x-python",
   "name": "python",
   "nbconvert_exporter": "python",
   "pygments_lexer": "ipython3",
   "version": "3.11.6"
  }
 },
 "nbformat": 4,
 "nbformat_minor": 2
}
