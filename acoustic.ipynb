{
 "cells": [
  {
   "cell_type": "code",
   "execution_count": 2,
   "metadata": {},
   "outputs": [],
   "source": [
    "import os\n",
    "\n",
    "import pandas as pd\n",
    "import s3fs\n",
    "import zipfile\n",
    "import numpy as np"
   ]
  },
  {
   "cell_type": "code",
   "execution_count": 3,
   "metadata": {},
   "outputs": [],
   "source": [
    "# Create filesystem object\n",
    "S3_ENDPOINT_URL = \"https://\" + os.environ[\"AWS_S3_ENDPOINT\"]\n",
    "fs = s3fs.S3FileSystem(client_kwargs={'endpoint_url': S3_ENDPOINT_URL})"
   ]
  },
  {
   "cell_type": "code",
   "execution_count": 4,
   "metadata": {},
   "outputs": [
    {
     "data": {
      "text/plain": [
       "['gvimont/diffusion/hackathon-minarm-2024/AIVSAI',\n",
       " 'gvimont/diffusion/hackathon-minarm-2024/Acoustique',\n",
       " 'gvimont/diffusion/hackathon-minarm-2024/Similarité']"
      ]
     },
     "execution_count": 4,
     "metadata": {},
     "output_type": "execute_result"
    }
   ],
   "source": [
    "# Lister les challenges\n",
    "fs.ls(\"gvimont/diffusion/hackathon-minarm-2024\")\n"
   ]
  },
  {
   "cell_type": "code",
   "execution_count": 5,
   "metadata": {},
   "outputs": [
    {
     "data": {
      "text/plain": [
       "['gvimont/diffusion/hackathon-minarm-2024/Acoustique/LivingRoom_preprocessed_hack.zip']"
      ]
     },
     "execution_count": 5,
     "metadata": {},
     "output_type": "execute_result"
    }
   ],
   "source": [
    "# Lister les fichiers d'un challenge\n",
    "fs.ls(\"gvimont/diffusion/hackathon-minarm-2024/Acoustique\")"
   ]
  },
  {
   "cell_type": "code",
   "execution_count": 8,
   "metadata": {},
   "outputs": [
    {
     "data": {
      "text/plain": [
       "[None]"
      ]
     },
     "execution_count": 8,
     "metadata": {},
     "output_type": "execute_result"
    }
   ],
   "source": [
    "# Download the data\n",
    "PATH_IN = 'gvimont/diffusion/hackathon-minarm-2024/Acoustique/LivingRoom_preprocessed_hack.zip'\n",
    "fs.download(PATH_IN, 'data/LivingRoom_preprocessed_hack.zip')"
   ]
  },
  {
   "cell_type": "code",
   "execution_count": 10,
   "metadata": {},
   "outputs": [],
   "source": [
    "# Décompresser les données\n",
    "with zipfile.ZipFile(\"data/LivingRoom_preprocessed_hack.zip\",\"r\") as zip_file:\n",
    "    zip_file.extractall(\"data/\")"
   ]
  },
  {
   "cell_type": "code",
   "execution_count": 11,
   "metadata": {},
   "outputs": [
    {
     "data": {
      "text/plain": [
       "array([[[ 3.51455710e-05,  2.98663563e-05,  3.73540461e-05, ...,\n",
       "          3.15141187e-05,  3.39845319e-05,  3.76356365e-05],\n",
       "        [ 2.16268872e-05,  1.10792007e-05,  2.40492645e-05, ...,\n",
       "          1.01209635e-05,  1.73616045e-05,  8.96632082e-06],\n",
       "        [ 2.06858294e-05,  1.90607770e-05,  2.63220481e-05, ...,\n",
       "          1.43677271e-05,  1.95061293e-05,  1.58852017e-05],\n",
       "        ...,\n",
       "        [ 3.27473884e-07, -3.45638477e-06,  6.21833306e-06, ...,\n",
       "          1.55723665e-05,  7.87512818e-06,  1.52851735e-05],\n",
       "        [-3.58676079e-05, -3.13848795e-05, -2.27468136e-05, ...,\n",
       "         -3.73245530e-06, -5.06659762e-06, -9.37922323e-06],\n",
       "        [ 2.69082539e-05,  1.57103223e-05,  2.85315637e-05, ...,\n",
       "          1.50174383e-05,  1.78934224e-05,  1.78581904e-05]],\n",
       "\n",
       "       [[-2.38466669e-06, -1.65329311e-06, -2.45740762e-06, ...,\n",
       "          3.55113252e-06,  7.89113926e-07,  5.85643602e-06],\n",
       "        [ 3.67970802e-06,  3.20152003e-06,  7.42820293e-06, ...,\n",
       "          1.00465177e-05,  8.65629227e-06,  1.03361735e-05],\n",
       "        [ 1.15234134e-05,  9.68922814e-06,  1.62094748e-05, ...,\n",
       "          4.92468780e-06,  7.93941035e-06,  4.21444474e-06],\n",
       "        ...,\n",
       "        [-3.29118811e-05, -3.09660900e-05, -5.74940132e-05, ...,\n",
       "         -3.77372162e-05, -1.65943911e-05, -4.75035049e-05],\n",
       "        [-6.53645066e-06,  1.64321991e-05, -1.56054030e-05, ...,\n",
       "          3.74732408e-05, -1.34185502e-05,  1.90527662e-05],\n",
       "        [ 3.74825640e-06, -1.40120055e-05, -2.41284179e-05, ...,\n",
       "         -1.50577926e-05,  3.73151875e-06, -4.05566061e-05]],\n",
       "\n",
       "       [[ 8.26749601e-06,  1.82878102e-05,  1.16602178e-05, ...,\n",
       "          1.71512784e-05,  2.13183412e-05,  1.60588297e-05],\n",
       "        [-1.43204443e-05, -1.45726290e-05, -1.33618651e-05, ...,\n",
       "         -1.35526934e-05, -5.25144424e-06, -1.08199747e-05],\n",
       "        [ 6.65167090e-06,  7.75978242e-06,  1.29727132e-05, ...,\n",
       "          8.98669259e-06,  4.07443167e-06,  6.13676593e-06],\n",
       "        ...,\n",
       "        [-9.34311902e-05, -3.16791047e-05,  5.11310609e-05, ...,\n",
       "         -1.33877820e-05, -3.59744263e-05, -5.07685490e-06],\n",
       "        [ 4.29171087e-05,  6.95398412e-05, -9.58762394e-06, ...,\n",
       "          7.05950515e-06,  1.38840605e-05,  2.53959661e-05],\n",
       "        [ 3.48565154e-05,  1.62154683e-04,  9.59023964e-05, ...,\n",
       "         -2.83682184e-05, -1.72598939e-05,  4.00675308e-05]],\n",
       "\n",
       "       ...,\n",
       "\n",
       "       [[-6.14561600e-07,  4.22392350e-06, -1.85878392e-07, ...,\n",
       "         -6.76098693e-07,  4.35970605e-06,  2.28980525e-06],\n",
       "        [-1.30048147e-06, -5.68565474e-06, -1.02670228e-07, ...,\n",
       "          1.65507984e-07, -6.31985995e-06, -6.32741376e-06],\n",
       "        [ 3.38047539e-06,  1.09339699e-05,  5.70787461e-06, ...,\n",
       "          1.82308145e-06,  2.68740132e-06,  2.25057860e-07],\n",
       "        ...,\n",
       "        [ 2.84475445e-05, -9.69421308e-05, -1.15391058e-05, ...,\n",
       "         -1.37829657e-05, -3.36143676e-05, -4.69288316e-05],\n",
       "        [ 6.56235716e-05, -1.86326615e-05, -1.84405853e-05, ...,\n",
       "          1.07343621e-05, -3.13611076e-06,  2.52163100e-05],\n",
       "        [ 4.40626391e-05,  2.55927516e-05, -2.93216999e-05, ...,\n",
       "          2.12368668e-05,  3.01993641e-05, -7.00180135e-06]],\n",
       "\n",
       "       [[ 2.97424367e-06,  9.25809582e-06,  4.65611856e-06, ...,\n",
       "         -1.42532735e-06,  7.71913346e-06,  3.81652308e-06],\n",
       "        [ 9.61486694e-06,  1.83352058e-05,  1.13190299e-05, ...,\n",
       "          1.55120815e-05,  1.43601092e-05,  1.40710190e-05],\n",
       "        [ 4.97008159e-06,  6.58677209e-06,  7.04461399e-06, ...,\n",
       "          2.21980258e-07,  3.41699524e-06, -7.08036282e-07],\n",
       "        ...,\n",
       "        [-1.17833290e-04,  5.41320660e-05,  1.60788055e-04, ...,\n",
       "         -2.93903176e-05, -5.96096797e-05, -3.33180869e-05],\n",
       "        [ 2.97668757e-05, -6.95744166e-06,  3.99069705e-07, ...,\n",
       "          1.99340611e-05,  1.66328082e-05,  1.53038786e-06],\n",
       "        [ 2.41034650e-05, -1.19355182e-05, -5.05881726e-05, ...,\n",
       "         -7.01449926e-06, -1.73745912e-06, -4.81871484e-06]],\n",
       "\n",
       "       [[-6.39128166e-06, -4.95994300e-06, -7.56028794e-06, ...,\n",
       "         -1.06203042e-05, -6.03227227e-06, -1.36032231e-05],\n",
       "        [-2.24766063e-06, -8.30407771e-06,  1.10183987e-06, ...,\n",
       "          4.48380524e-06, -1.80683992e-06,  2.69989687e-06],\n",
       "        [ 1.19828537e-05,  1.87957194e-05,  1.22232213e-05, ...,\n",
       "          1.18258258e-05,  1.37368870e-05,  1.61766930e-05],\n",
       "        ...,\n",
       "        [ 1.24526796e-05,  4.75481684e-05,  5.56340710e-05, ...,\n",
       "          1.15281937e-05,  1.44982978e-05,  1.23983436e-05],\n",
       "        [-2.88365809e-05, -1.09876455e-05,  2.46264044e-05, ...,\n",
       "          1.75988298e-05,  9.01570729e-06,  2.38109587e-05],\n",
       "        [-3.77415345e-05, -3.78391924e-05, -1.39149979e-05, ...,\n",
       "         -1.51221093e-06, -1.12246526e-05, -3.85721887e-06]]],\n",
       "      dtype=float32)"
      ]
     },
     "execution_count": 11,
     "metadata": {},
     "output_type": "execute_result"
    }
   ],
   "source": [
    "# Analyse d'un des jeux de données\n",
    "deconvolved = np.load('data/LivingRoom_preprocessed_hack/Empty/deconvolved.npy')\n",
    "deconvolved"
   ]
  },
  {
   "cell_type": "code",
   "execution_count": null,
   "metadata": {},
   "outputs": [],
   "source": []
  }
 ],
 "metadata": {
  "kernelspec": {
   "display_name": "base",
   "language": "python",
   "name": "python3"
  },
  "language_info": {
   "codemirror_mode": {
    "name": "ipython",
    "version": 3
   },
   "file_extension": ".py",
   "mimetype": "text/x-python",
   "name": "python",
   "nbconvert_exporter": "python",
   "pygments_lexer": "ipython3",
   "version": "3.11.6"
  }
 },
 "nbformat": 4,
 "nbformat_minor": 2
}
