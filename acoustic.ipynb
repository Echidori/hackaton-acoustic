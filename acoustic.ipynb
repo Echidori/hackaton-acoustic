{
 "cells": [
  {
   "cell_type": "code",
   "execution_count": 9,
   "metadata": {},
   "outputs": [],
   "source": [
    "# On met ici toutes les bibliothèques utilisées pendant le projet\n",
    "# Si nécessaire, installer les modules manquants en fonction des erreurs\n",
    "# que cette node peut produire (par exemple, tensorflow, pytorch et librosa)\n",
    "\n",
    "import librosa\n",
    "import matplotlib.pyplot as plt\n",
    "import numpy as np\n",
    "import os\n",
    "import pandas as pd\n",
    "import s3fs\n",
    "import sys\n",
    "import tensorflow as tf\n",
    "import torch\n",
    "import zipfile\n",
    "from sklearn.linear_model import LinearRegression\n",
    "from sklearn.metrics import mean_squared_error\n",
    "from sklearn.model_selection import train_test_split\n",
    "from sklearn.neighbors import KNeighborsRegressor"
   ]
  },
  {
   "cell_type": "code",
   "execution_count": 8,
   "metadata": {},
   "outputs": [],
   "source": [
    "# Create filesystem object\n",
    "S3_ENDPOINT_URL = \"https://\" + os.environ[\"AWS_S3_ENDPOINT\"]\n",
    "fs = s3fs.S3FileSystem(client_kwargs={'endpoint_url': S3_ENDPOINT_URL})"
   ]
  },
  {
   "cell_type": "code",
   "execution_count": 9,
   "metadata": {},
   "outputs": [
    {
     "data": {
      "text/plain": [
       "['gvimont/diffusion/hackathon-minarm-2024/AIVSAI',\n",
       " 'gvimont/diffusion/hackathon-minarm-2024/Acoustique',\n",
       " 'gvimont/diffusion/hackathon-minarm-2024/Similarité']"
      ]
     },
     "execution_count": 9,
     "metadata": {},
     "output_type": "execute_result"
    }
   ],
   "source": [
    "# Lister les challenges\n",
    "fs.ls(\"gvimont/diffusion/hackathon-minarm-2024\")\n"
   ]
  },
  {
   "cell_type": "code",
   "execution_count": 10,
   "metadata": {},
   "outputs": [
    {
     "data": {
      "text/plain": [
       "['gvimont/diffusion/hackathon-minarm-2024/Acoustique/LivingRoom_preprocessed_hack.zip']"
      ]
     },
     "execution_count": 10,
     "metadata": {},
     "output_type": "execute_result"
    }
   ],
   "source": [
    "# Lister les fichiers d'un challenge\n",
    "fs.ls(\"gvimont/diffusion/hackathon-minarm-2024/Acoustique\")"
   ]
  },
  {
   "cell_type": "code",
   "execution_count": 11,
   "metadata": {},
   "outputs": [
    {
     "data": {
      "text/plain": [
       "[None]"
      ]
     },
     "execution_count": 11,
     "metadata": {},
     "output_type": "execute_result"
    }
   ],
   "source": [
    "# Download the data\n",
    "PATH_IN = 'gvimont/diffusion/hackathon-minarm-2024/Acoustique/LivingRoom_preprocessed_hack.zip'\n",
    "fs.download(PATH_IN, 'data/LivingRoom_preprocessed_hack.zip')"
   ]
  },
  {
   "cell_type": "code",
   "execution_count": 12,
   "metadata": {},
   "outputs": [],
   "source": [
    "# Décompresser les données\n",
    "with zipfile.ZipFile(\"data/LivingRoom_preprocessed_hack.zip\",\"r\") as zip_file:\n",
    "    zip_file.extractall(\"data/\")"
   ]
  },
  {
   "cell_type": "code",
   "execution_count": 3,
   "metadata": {},
   "outputs": [],
   "source": [
    "# Chargement des jeux de données de RIR\n",
    "deconvolved_human1 = np.load('data/LivingRoom_preprocessed_hack/Human1/deconvoled_trim.npy')\n",
    "deconvolved_human2 = np.load('data/LivingRoom_preprocessed_hack/Human2/deconvoled_trim.npy')\n",
    "deconvolved_empty = np.load('data/LivingRoom_preprocessed_hack/Empty/deconvolved.npy')"
   ]
  },
  {
   "cell_type": "code",
   "execution_count": 14,
   "metadata": {},
   "outputs": [
    {
     "name": "stdout",
     "output_type": "stream",
     "text": [
      "Dimensions des données originales du 1er humain:  (1000, 4, 667200)\n",
      "Dimensions de niveaux_rms du 1er humain: (4, 1000)\n",
      "Dimensions des données originales du 2eme humain:  (104, 4, 667200)\n",
      "Dimensions de niveaux_rms du 2eme humain: (4, 104)\n"
     ]
    }
   ],
   "source": [
    "# Calculer les niveaux RMS pour chaque datapoint de chaque micro\n",
    "niveaux_rms_human1 = []\n",
    "niveaux_rms_human2 = []\n",
    "for i in range (4):\n",
    "    niveaux_rms_h1_i = np.sqrt(np.mean(deconvolved_human1[:,i,:]**2, axis=(1)))\n",
    "    niveaux_rms_h2_i = np.sqrt(np.mean(deconvolved_human2[:,i,:]**2, axis=(1)))\n",
    "    niveaux_rms_human1.append(niveaux_rms_h1_i)\n",
    "    niveaux_rms_human2.append(niveaux_rms_h2_i)\n",
    "\n",
    "niveaux_rms_human1 = np.array(niveaux_rms_human1)\n",
    "niveaux_rms_human2 = np.array(niveaux_rms_human2)\n",
    "\n",
    "# Vérifier les dimensions de niveaux_rms\n",
    "print(\"Dimensions des données originales du 1er humain: \", deconvolved_human1.shape)\n",
    "print(\"Dimensions de niveaux_rms du 1er humain:\", niveaux_rms_human1.shape)\n",
    "print(\"Dimensions des données originales du 2eme humain: \", deconvolved_human2.shape)\n",
    "print(\"Dimensions de niveaux_rms du 2eme humain:\", niveaux_rms_human2.shape)"
   ]
  },
  {
   "cell_type": "code",
   "execution_count": 4,
   "metadata": {},
   "outputs": [],
   "source": [
    "# Chargement des jeux de données de positions\n",
    "centroid_human1 = np.load('data/LivingRoom_preprocessed_hack/Human1/centroid.npy')\n",
    "centroid_human2 = np.load('data/LivingRoom_preprocessed_hack/Human2/centroid.npy')"
   ]
  },
  {
   "cell_type": "code",
   "execution_count": 16,
   "metadata": {},
   "outputs": [
    {
     "name": "stdout",
     "output_type": "stream",
     "text": [
      "(1000, 2)\n",
      "(104, 2)\n"
     ]
    }
   ],
   "source": [
    "# Vérification des shapes des données récupérées\n",
    "print(centroid_human1.shape)\n",
    "print(centroid_human2.shape)"
   ]
  },
  {
   "cell_type": "code",
   "execution_count": 17,
   "metadata": {},
   "outputs": [
    {
     "name": "stdout",
     "output_type": "stream",
     "text": [
      "(4, 1104)\n",
      "(1104, 2)\n"
     ]
    }
   ],
   "source": [
    "# Mise en commun de human1 et human2 en un seul jeu de donnée pour les RMS et les positions\n",
    "niveaux_rms = np.concatenate((niveaux_rms_human1, niveaux_rms_human2), axis=1)\n",
    "\n",
    "# on transpose les arrays avec .T pour éviter les conflits pendant la mise en commun,\n",
    "# puis on retranspose derrière\n",
    "positions = np.concatenate((centroid_human1.T, centroid_human2.T), axis=1)\n",
    "positions = positions.T\n",
    "\n",
    "#vérification des shapes de la mise en commun\n",
    "print(niveaux_rms.shape)\n",
    "print(positions.shape)"
   ]
  },
  {
   "cell_type": "code",
   "execution_count": 70,
   "metadata": {},
   "outputs": [
    {
     "name": "stdout",
     "output_type": "stream",
     "text": [
      "(883, 4)\n",
      "(883, 3)\n",
      "(883, 2)\n",
      "(883, 1)\n"
     ]
    }
   ],
   "source": [
    "# Préparation des données pour l'entrainement\n",
    "\n",
    "# X : données de niveaux RMS (4, N_datapoints)\n",
    "# y : données de position (N_datapoints, 2)\n",
    "\n",
    "# Diviser les données en ensembles d'entraînement et de test\n",
    "# On transpose X pour avoir N_datapoints en premier pour les deux datasets\n",
    "X_train, X_test, y_train, y_test = train_test_split(niveaux_rms.T, positions, test_size=0.2, random_state=42)\n",
    "\n",
    "# Réduire les données à 3, 2 et 1 micro pour faire des comparaisons avec le nombre de micros\n",
    "# Division des données au nombre de micros respectifs en ensembles d'entraînement et de test également\n",
    "X_train_3, X_test_3, y_train_3, y_test_3 = train_test_split(niveaux_rms[0:3,:].T, positions, test_size=0.2, random_state=42)\n",
    "X_train_2, X_test_2, y_train_2, y_test_2 = train_test_split(niveaux_rms[0:2,:].T, positions, test_size=0.2, random_state=42)\n",
    "X_train_1, X_test_1, y_train_1, y_test_1 = train_test_split(niveaux_rms[0:1,:].T, positions, test_size=0.2, random_state=42)\n",
    "\n",
    "# Vérification que les données divisées aient bien la bonne shape pour s'entrainer et tester les modèles au nombre de micros voulus\n",
    "# Rappel: Shape des données = (N_datapoints, N_micros)\n",
    "print(X_train.shape)\n",
    "print(X_train_3.shape)\n",
    "print(X_train_2.shape)\n",
    "print(X_train_1.shape)\n"
   ]
  },
  {
   "cell_type": "markdown",
   "metadata": {},
   "source": [
    "## Algorithmes utilisés:\n",
    " - KNN \n",
    " - Linear Regression\n",
    " - CNN classique\n",
    " - VGGish\n",
    "\n",
    "KNN et la régression linéaire étant tous les deux utilisés dans le papier, ils seront comparés aux résultats du livre pour le nombre de microphones correspondants. CNN ne sera utilisé qu'avec 4 microphones, pas moins."
   ]
  },
  {
   "cell_type": "code",
   "execution_count": 58,
   "metadata": {},
   "outputs": [],
   "source": [
    "# Implémentation de KNN\n",
    "\n",
    "# Choix des voisins: 4, car c'est celui qui minimise la distance moyenne pour les 4 micros\n",
    "# On considère les 4 micros comme le \"standard\" pour l'entrainement et la création des modèles qui suivent\n",
    "\n",
    "knn = KNeighborsRegressor(n_neighbors=4)\n",
    "knn_3 = KNeighborsRegressor(n_neighbors=4)\n",
    "knn_2 = KNeighborsRegressor(n_neighbors=4)\n",
    "knn_1 = KNeighborsRegressor(n_neighbors=4)\n",
    "\n",
    "# Entrainement du modèle knn pour 4 à 1 micro\n",
    "knn.fit(X_train, y_train)\n",
    "knn_3.fit(X_train_3, y_train_3)\n",
    "knn_2.fit(X_train_2, y_train_2)\n",
    "knn_1.fit(X_train_1, y_train_1)\n",
    "\n",
    "# Prediction des positions pour chaque knn\n",
    "predictions = knn.predict(X_test)\n",
    "predictions_3 = knn_3.predict(X_test_3)\n",
    "predictions_2 = knn_2.predict(X_test_2)\n",
    "predictions_1 = knn_1.predict(X_test_1)"
   ]
  },
  {
   "cell_type": "code",
   "execution_count": 59,
   "metadata": {},
   "outputs": [
    {
     "name": "stdout",
     "output_type": "stream",
     "text": [
      "KNN distance moyenne par rapport à la position réelle pour 4 microphones: 62.4 cm, écart-type: 64.25 cm\n",
      "KNN distance moyenne par rapport à la position réelle pour 3 microphones: 79.55 cm, écart-type: 71.57 cm\n",
      "KNN distance moyenne par rapport à la position réelle pour 2 microphones: 93.68 cm, écart-type: 68.5 cm\n",
      "KNN distance moyenne par rapport à la position réelle pour 1 microphone: 103.44 cm, écart-type: 72.9 cm\n"
     ]
    }
   ],
   "source": [
    "# Evaluation (moyenne de la distance des prédictions par rapport aux distances réelles)\n",
    "# On divise par 10 car les résultats sont en milimètres (nous voulons des centimètres pour comparer avec le livre)\n",
    "knn_eval = np.mean(np.abs(y_test - predictions)) /10\n",
    "knn_eval_3 = np.mean(np.abs(y_test_3 - predictions_3)) /10\n",
    "knn_eval_2 = np.mean(np.abs(y_test_2 - predictions_2)) /10\n",
    "knn_eval_1 = np.mean(np.abs(y_test_1 - predictions_1)) /10\n",
    "\n",
    "# Calcul de l'ecart-type, pour indiquer l'écart des prédictions par rapport à la moyenne\n",
    "knn_std = np.std(np.abs(y_test - predictions)) /10\n",
    "knn_std_3 = np.std(np.abs(y_test_3 - predictions_3)) /10\n",
    "knn_std_2 = np.std(np.abs(y_test_2 - predictions_2)) /10\n",
    "knn_std_1 = np.std(np.abs(y_test_1 - predictions_1)) /10\n",
    "\n",
    "# Comparaison des résultats pour le nombre de micros pour les KNN\n",
    "# Pour comparer les résultats au papier, on passe les données en cm\n",
    "# On arrondit également à deux chiffres après la virgule\n",
    "print(\"KNN distance moyenne par rapport à la position réelle pour 4 microphones:\", np.round(knn_eval, 2), \"cm, écart-type:\", np.round(knn_std, 2), \"cm\")\n",
    "print(\"KNN distance moyenne par rapport à la position réelle pour 3 microphones:\", np.round(knn_eval_3, 2), \"cm, écart-type:\", np.round(knn_std_3, 2), \"cm\")\n",
    "print(\"KNN distance moyenne par rapport à la position réelle pour 2 microphones:\", np.round(knn_eval_2, 2), \"cm, écart-type:\", np.round(knn_std_2, 2), \"cm\")\n",
    "print(\"KNN distance moyenne par rapport à la position réelle pour 1 microphone:\", np.round(knn_eval_1, 2), \"cm, écart-type:\", np.round(knn_std_1, 2), \"cm\")"
   ]
  },
  {
   "cell_type": "code",
   "execution_count": 60,
   "metadata": {},
   "outputs": [],
   "source": [
    "# Implémentation de régression linéaire\n",
    "\n",
    "# Création du modèle de regression linéaire\n",
    "linear_regression = LinearRegression()\n",
    "linear_regression_3 = LinearRegression()\n",
    "linear_regression_2 = LinearRegression()\n",
    "linear_regression_1 = LinearRegression()\n",
    "\n",
    "# Entrainement des modèles\n",
    "linear_regression.fit(X_train, y_train)\n",
    "linear_regression_3.fit(X_train_3, y_train_3)\n",
    "linear_regression_2.fit(X_train_2, y_train_2)\n",
    "linear_regression_1.fit(X_train_1, y_train_1)\n",
    "\n",
    "# Predictions des positions pour chaque modèle\n",
    "predictions = linear_regression.predict(X_test)\n",
    "predictions_3 = linear_regression_3.predict(X_test_3)\n",
    "predictions_2 = linear_regression_2.predict(X_test_2)\n",
    "predictions_1 = linear_regression_1.predict(X_test_1)"
   ]
  },
  {
   "cell_type": "code",
   "execution_count": 61,
   "metadata": {},
   "outputs": [
    {
     "name": "stdout",
     "output_type": "stream",
     "text": [
      "Linear Regression distance moyenne par rapport à la position réelle pour 4 microphones: 95.93 cm, écart-type: 63.78 cm\n",
      "Linear Regression distance moyenne par rapport à la position réelle pour 3 microphones: 100.03 cm, écart-type: 65.88 cm\n",
      "Linear Regression distance moyenne par rapport à la position réelle pour 2 microphones: 101.67 cm, écart-type: 65.72 cm\n",
      "Linear Regression distance moyenne par rapport à la position réelle pour 1 microphone: 104.03 cm, écart-type: 64.52 cm\n"
     ]
    }
   ],
   "source": [
    "# Evaluation (moyenne de la distance des prédictions par rapport aux distances réelles)\n",
    "# On divise par 10 car les résultats sont en milimètres (nous voulons des centimètres pour comparer avec le livre)\n",
    "lr_eval = np.mean(np.abs(y_test - predictions)) /10\n",
    "lr_eval_3 = np.mean(np.abs(y_test_3 - predictions_3)) /10\n",
    "lr_eval_2 = np.mean(np.abs(y_test_2 - predictions_2)) /10\n",
    "lr_eval_1 = np.mean(np.abs(y_test_1 - predictions_1)) /10\n",
    "\n",
    "# Calcul de l'ecart-type, pour indiquer l'écart des prédictions par rapport à la moyenne\n",
    "lr_std = np.std(np.abs(y_test - predictions)) /10\n",
    "lr_std_3 = np.std(np.abs(y_test_3 - predictions_3)) /10\n",
    "lr_std_2 = np.std(np.abs(y_test_2 - predictions_2)) /10\n",
    "lr_std_1 = np.std(np.abs(y_test_1 - predictions_1)) /10\n",
    "\n",
    "# Comparaison des résultats pour le nombre de micros\n",
    "# On arrondit également à deux chiffres après la virgule\n",
    "print(\"Linear Regression distance moyenne par rapport à la position réelle pour 4 microphones:\", np.round(lr_eval, 2), \"cm, écart-type:\", np.round(lr_std, 2), \"cm\")\n",
    "print(\"Linear Regression distance moyenne par rapport à la position réelle pour 3 microphones:\", np.round(lr_eval_3, 2), \"cm, écart-type:\", np.round(lr_std_3, 2), \"cm\")\n",
    "print(\"Linear Regression distance moyenne par rapport à la position réelle pour 2 microphones:\", np.round(lr_eval_2, 2), \"cm, écart-type:\", np.round(lr_std_2, 2), \"cm\")\n",
    "print(\"Linear Regression distance moyenne par rapport à la position réelle pour 1 microphone:\", np.round(lr_eval_1, 2), \"cm, écart-type:\", np.round(lr_std_1, 2), \"cm\")"
   ]
  },
  {
   "cell_type": "markdown",
   "metadata": {},
   "source": [
    "### Comparaison des résultats en fonction du nombre de micros avec les résultats du papier sur les modèles en commun\n",
    "Comme on peut le constater, en mettant nos résultats dans le même format que ceux du papier (en passant de mm en cm), on peut vérifier que nos résultats sont comparables à ceux du papier en terme d'ordre de grandeur, comme l'illustre le plot de comparaison de la prochaine node.\n",
    "\n",
    "Similairement, on remarque que le nombre de micros a une influence plus ou moins grande sur la précision des prédictions:\n",
    "On voit clairement que, bien que le KNN soit le plus précis pour 4 micros, il est également celui qui montre un plus grand écart dans la précision des prédictions en baissant le nombre de microphones, alors que la régression linéaire reste relativement constante dans sa performance.\n",
    "\n",
    "Peu importe le modèle, il est clair que la précision des prédictions est directement corrélée au nombre de micros utilisés."
   ]
  },
  {
   "cell_type": "code",
   "execution_count": 77,
   "metadata": {},
   "outputs": [
    {
     "data": {
      "image/png": "[encoded data removed]",
      "text/plain": [
       "<Figure size 640x480 with 1 Axes>"
      ]
     },
     "metadata": {},
     "output_type": "display_data"
    }
   ],
   "source": [
    "# Plot des résultats de KNN et Linear Regression face aux résultats du livre\n",
    "\n",
    "# Création des arrays contenant les distances moyennes,\n",
    "# de nos résultats et de ceux du livre\n",
    "# Attention: nous ne mettons pas nos résultats pour 3 micros car le livre non plus\n",
    "knn_avg_dists = [knn_eval_1, knn_eval_2, knn_eval]\n",
    "lr_avg_dists = [lr_eval_1, lr_eval_2, lr_eval]\n",
    "knn_book = [157.3, 123.0, 93.2]\n",
    "lr_book = [168.4, 165.3, 154.5]\n",
    "\n",
    "# Simple array du nombres de microphones\n",
    "microphone_counts = [1, 2, 4]\n",
    "\n",
    "plt.plot(microphone_counts, knn_avg_dists, marker='o', color='skyblue', linestyle='-', label=\"KNN\")\n",
    "plt.plot(microphone_counts, lr_avg_dists, marker='o', color='orange', linestyle='-', label=\"Linear Regression\")\n",
    "plt.plot(microphone_counts, knn_book, marker='o', color='blue', linestyle='-', label=\"KNN du papier\")\n",
    "plt.plot(microphone_counts, lr_book, marker='o', color='red', linestyle='-', label=\"Linear Regression du papier\")\n",
    "plt.xticks(microphone_counts)\n",
    "plt.xlabel('Nombre de micros')\n",
    "plt.ylabel('Distance moyenne')\n",
    "plt.title('Distance moyenne de la prédiction de la position réelle en fonction du modèle et du nombre de microphones')\n",
    "plt.legend()\n",
    "plt.show()"
   ]
  },
  {
   "cell_type": "code",
   "execution_count": 73,
   "metadata": {},
   "outputs": [
    {
     "name": "stderr",
     "output_type": "stream",
     "text": [
      "/opt/mamba/lib/python3.11/site-packages/keras/src/layers/reshaping/reshape.py:39: UserWarning: Do not pass an `input_shape`/`input_dim` argument to a layer. When using Sequential models, prefer using an `Input(shape)` object as the first layer in the model instead.\n",
      "  super().__init__(**kwargs)\n"
     ]
    }
   ],
   "source": [
    "# Implementation CNN avec Tensorflow\n",
    "\n",
    "# Definition de l'architecture du Convolution Neural Network\n",
    "model = tf.keras.Sequential([\n",
    "    tf.keras.layers.Reshape((4, 1), input_shape=(4,)),\n",
    "    tf.keras.layers.Conv1D(64, kernel_size=1, activation='relu'),\n",
    "    tf.keras.layers.MaxPooling1D(pool_size=2),\n",
    "    tf.keras.layers.Flatten(),\n",
    "    tf.keras.layers.Dense(128, activation='relu'),\n",
    "    tf.keras.layers.Dense(2)\n",
    "])\n",
    "\n",
    "# Compile the model\n",
    "model.compile(optimizer='adam', loss='mse')\n"
   ]
  },
  {
   "cell_type": "code",
   "execution_count": 74,
   "metadata": {},
   "outputs": [
    {
     "name": "stdout",
     "output_type": "stream",
     "text": [
      "Epoch 1/20\n"
     ]
    },
    {
     "name": "stdout",
     "output_type": "stream",
     "text": [
      "\u001b[1m71/71\u001b[0m \u001b[32m━━━━━━━━━━━━━━━━━━━━\u001b[0m\u001b[37m\u001b[0m \u001b[1m2s\u001b[0m 10ms/step - loss: 3831948.0000 - val_loss: 4060927.0000\n",
      "Epoch 2/20\n",
      "\u001b[1m71/71\u001b[0m \u001b[32m━━━━━━━━━━━━━━━━━━━━\u001b[0m\u001b[37m\u001b[0m \u001b[1m1s\u001b[0m 8ms/step - loss: 3825939.7500 - val_loss: 3990036.5000\n",
      "Epoch 3/20\n",
      "\u001b[1m71/71\u001b[0m \u001b[32m━━━━━━━━━━━━━━━━━━━━\u001b[0m\u001b[37m\u001b[0m \u001b[1m1s\u001b[0m 7ms/step - loss: 3755562.5000 - val_loss: 3783640.5000\n",
      "Epoch 4/20\n",
      "\u001b[1m71/71\u001b[0m \u001b[32m━━━━━━━━━━━━━━━━━━━━\u001b[0m\u001b[37m\u001b[0m \u001b[1m1s\u001b[0m 7ms/step - loss: 3484779.5000 - val_loss: 3390242.7500\n",
      "Epoch 5/20\n",
      "\u001b[1m71/71\u001b[0m \u001b[32m━━━━━━━━━━━━━━━━━━━━\u001b[0m\u001b[37m\u001b[0m \u001b[1m1s\u001b[0m 7ms/step - loss: 3176948.5000 - val_loss: 2853323.0000\n",
      "Epoch 6/20\n",
      "\u001b[1m71/71\u001b[0m \u001b[32m━━━━━━━━━━━━━━━━━━━━\u001b[0m\u001b[37m\u001b[0m \u001b[1m1s\u001b[0m 7ms/step - loss: 2639843.0000 - val_loss: 2307969.7500\n",
      "Epoch 7/20\n",
      "\u001b[1m71/71\u001b[0m \u001b[32m━━━━━━━━━━━━━━━━━━━━\u001b[0m\u001b[37m\u001b[0m \u001b[1m1s\u001b[0m 7ms/step - loss: 2204868.2500 - val_loss: 1898567.0000\n",
      "Epoch 8/20\n",
      "\u001b[1m71/71\u001b[0m \u001b[32m━━━━━━━━━━━━━━━━━━━━\u001b[0m\u001b[37m\u001b[0m \u001b[1m1s\u001b[0m 7ms/step - loss: 1812816.2500 - val_loss: 1664899.7500\n",
      "Epoch 9/20\n",
      "\u001b[1m71/71\u001b[0m \u001b[32m━━━━━━━━━━━━━━━━━━━━\u001b[0m\u001b[37m\u001b[0m \u001b[1m1s\u001b[0m 7ms/step - loss: 1625640.8750 - val_loss: 1565992.6250\n",
      "Epoch 10/20\n",
      "\u001b[1m71/71\u001b[0m \u001b[32m━━━━━━━━━━━━━━━━━━━━\u001b[0m\u001b[37m\u001b[0m \u001b[1m1s\u001b[0m 7ms/step - loss: 1494072.2500 - val_loss: 1528631.3750\n",
      "Epoch 11/20\n",
      "\u001b[1m71/71\u001b[0m \u001b[32m━━━━━━━━━━━━━━━━━━━━\u001b[0m\u001b[37m\u001b[0m \u001b[1m1s\u001b[0m 7ms/step - loss: 1564077.0000 - val_loss: 1516277.0000\n",
      "Epoch 12/20\n",
      "\u001b[1m71/71\u001b[0m \u001b[32m━━━━━━━━━━━━━━━━━━━━\u001b[0m\u001b[37m\u001b[0m \u001b[1m1s\u001b[0m 7ms/step - loss: 1543177.3750 - val_loss: 1516457.3750\n",
      "Epoch 13/20\n",
      "\u001b[1m71/71\u001b[0m \u001b[32m━━━━━━━━━━━━━━━━━━━━\u001b[0m\u001b[37m\u001b[0m \u001b[1m1s\u001b[0m 7ms/step - loss: 1578094.7500 - val_loss: 1517121.5000\n",
      "Epoch 14/20\n",
      "\u001b[1m71/71\u001b[0m \u001b[32m━━━━━━━━━━━━━━━━━━━━\u001b[0m\u001b[37m\u001b[0m \u001b[1m1s\u001b[0m 7ms/step - loss: 1518070.6250 - val_loss: 1517580.8750\n",
      "Epoch 15/20\n",
      "\u001b[1m71/71\u001b[0m \u001b[32m━━━━━━━━━━━━━━━━━━━━\u001b[0m\u001b[37m\u001b[0m \u001b[1m1s\u001b[0m 7ms/step - loss: 1529624.7500 - val_loss: 1518149.6250\n",
      "Epoch 16/20\n",
      "\u001b[1m71/71\u001b[0m \u001b[32m━━━━━━━━━━━━━━━━━━━━\u001b[0m\u001b[37m\u001b[0m \u001b[1m1s\u001b[0m 7ms/step - loss: 1547963.5000 - val_loss: 1521359.1250\n",
      "Epoch 17/20\n",
      "\u001b[1m71/71\u001b[0m \u001b[32m━━━━━━━━━━━━━━━━━━━━\u001b[0m\u001b[37m\u001b[0m \u001b[1m1s\u001b[0m 7ms/step - loss: 1519640.1250 - val_loss: 1522273.7500\n",
      "Epoch 18/20\n",
      "\u001b[1m71/71\u001b[0m \u001b[32m━━━━━━━━━━━━━━━━━━━━\u001b[0m\u001b[37m\u001b[0m \u001b[1m1s\u001b[0m 7ms/step - loss: 1558096.0000 - val_loss: 1522412.6250\n",
      "Epoch 19/20\n",
      "\u001b[1m71/71\u001b[0m \u001b[32m━━━━━━━━━━━━━━━━━━━━\u001b[0m\u001b[37m\u001b[0m \u001b[1m1s\u001b[0m 8ms/step - loss: 1524966.8750 - val_loss: 1522905.0000\n",
      "Epoch 20/20\n",
      "\u001b[1m71/71\u001b[0m \u001b[32m━━━━━━━━━━━━━━━━━━━━\u001b[0m\u001b[37m\u001b[0m \u001b[1m1s\u001b[0m 7ms/step - loss: 1526381.0000 - val_loss: 1524251.5000\n"
     ]
    }
   ],
   "source": [
    "# Entrainement du modèle sur 20 epochs (en mettre plus n'améliore pas les performances du CNN comme visible sur le graphe)\n",
    "history = model.fit(X_train, y_train, validation_split=0.2, epochs=20, batch_size=10)\n"
   ]
  },
  {
   "cell_type": "code",
   "execution_count": 75,
   "metadata": {},
   "outputs": [
    {
     "name": "stdout",
     "output_type": "stream",
     "text": [
      "\u001b[1m7/7\u001b[0m \u001b[32m━━━━━━━━━━━━━━━━━━━━\u001b[0m\u001b[37m\u001b[0m \u001b[1m0s\u001b[0m 12ms/step\n",
      "Average Euclidean distance from actual positions: 1631.57 mm\n"
     ]
    }
   ],
   "source": [
    "# Evaluate the model on the test set\n",
    "#test_loss = model.evaluate(X_test_scaled, y_test)\n",
    "#print(\"Test loss (MSE):\", test_loss)\n",
    "\n",
    "from sklearn.metrics import mean_squared_error\n",
    "import numpy as np\n",
    "\n",
    "# Calculate predictions\n",
    "predictions = model.predict(X_test)\n",
    "\n",
    "# Calculate Euclidean distance between the predicted and actual positions\n",
    "errors = np.sqrt(np.sum((y_test - predictions)**2, axis=1))\n",
    "average_error = np.mean(errors)\n",
    "\n",
    "print(\"Average Euclidean distance from actual positions: {:.2f} mm\".format(average_error))\n",
    "\n"
   ]
  },
  {
   "cell_type": "code",
   "execution_count": 76,
   "metadata": {},
   "outputs": [
    {
     "data": {
      "image/png": "[encoded data removed]",
      "text/plain": [
       "<Figure size 640x480 with 1 Axes>"
      ]
     },
     "metadata": {},
     "output_type": "display_data"
    }
   ],
   "source": [
    "import matplotlib.pyplot as plt\n",
    "\n",
    "# Plot training & validation loss values\n",
    "plt.plot(history.history['loss'], label='Train')\n",
    "plt.plot(history.history['val_loss'], label='Validation')\n",
    "plt.title('Model loss')\n",
    "plt.ylabel('Loss')\n",
    "plt.xlabel('Epoch')\n",
    "plt.legend(loc='upper right')\n",
    "plt.show()"
   ]
  },
  {
   "cell_type": "code",
   "execution_count": 6,
   "metadata": {},
   "outputs": [
    {
     "name": "stdout",
     "output_type": "stream",
     "text": [
      "cd VGGish\n",
      "python train_vggish_localization.py /home/onyxia/work/hackaton-acoustic/data/LivingRoom_preprocessed_hack/Human1/deconvoled_trim.py /home/onyxia/work/hackaton-acoustic/data/LivingRoom_preprocessed_hack/Human1/centroid.npy --num_channels 4 --pretrained --num_epochs 10 --living\n"
     ]
    }
   ],
   "source": [
    "# Implementation VGGish\n",
    "# On récupère l'implémentation VGGish du github, qui aura subi quelques modifications pour run\n",
    "DATASET_PATH = '/home/onyxia/work/hackaton-acoustic/data/LivingRoom_preprocessed_hack/Human1/'\n",
    "rir_path = os.path.join(DATASET_PATH, \"deconvoled_trim.npy\")\n",
    "centroid_path = os.path.join(DATASET_PATH, \"centroid.npy\")\n",
    "\n",
    "\n",
    "sys.path.insert(0, \"VGGish\")\n",
    "#Exampl\n",
    "print(\"cd VGGish\")\n",
    "print(\"python train_vggish_localization.py \"+rir_path+\" \" + centroid_path + \" --num_channels 4 --pretrained --num_epochs 10 --living\")\n",
    "\n",
    "# l'execution de cette node créera un lien qu'il faudra mettre dans un terminal dans le fichier VGGish\n"
   ]
  },
  {
   "cell_type": "code",
   "execution_count": 18,
   "metadata": {},
   "outputs": [],
   "source": [
    "# Presque tout le code présent ici provient du github des scientifiques du papier\n",
    "# Valeurs par défaut pour le pretrained\n",
    "precutoff = 92850\n",
    "vggish_cutoff = 30950\n",
    "\n",
    "train_indices = np.load(\"/home/onyxia/work/hackaton-acoustic/indices/train_indices.npy\")\n",
    "test_indices = np.load(\"/home/onyxia/work/hackaton-acoustic/indices/test_indices.npy\")\n",
    "valid_indices = np.load(\"/home/onyxia/work/hackaton-acoustic/indices/valid_indices.npy\")\n",
    "\n",
    "test_waves = deconv[test_indices, :]\n",
    "test_waves =  test_waves[..., :precutoff]\n",
    "test_waves = torch.Tensor(test_waves)#.cuda()\n",
    "test_waves = test_waves[..., :vggish_cutoff]\n",
    "# uniquement si PAS multi-channel\n",
    "test_waves = torch.mean(test_waves, dim=1)\n",
    "\n",
    "train_xy = centroid[train_indices]\n",
    "test_xy = centroid[test_indices]\n",
    "valid_xy = centroid[valid_indices]\n",
    "\n",
    "train_mean = np.mean(train_xy, axis=0)\n",
    "train_std = np.std(train_xy, axis=0)\n",
    "\n",
    "test_xy =  (test_xy - train_mean) / (train_std + 1e-8)\n",
    "test_xy = torch.Tensor(test_xy)#.cuda()\n",
    "train_xy =  (train_xy - train_mean) / (train_std + 1e-8)\n",
    "train_xy = torch.Tensor(train_xy)#.cuda()\n",
    "valid_xy = (valid_xy - train_mean) / (train_std + 1e-8)\n",
    "valid_xy = torch.Tensor(valid_xy)#.cuda()\n",
    "\n",
    "\n",
    "epsilon = 1e-2\n",
    "norm_val_min = np.min(np.concatenate((train_xy, valid_xy), axis=0))\n",
    "norm_val_range = np.max(np.concatenate((train_xy, valid_xy), axis=0)) - norm_val_min\n",
    "\n",
    "def postprocess_net_output(output):\n",
    "    output[:, :2] = norm_val_range * ((torch.tanh(output[:, :2]) * (1 + epsilon)) + 1) / 2 + norm_val_min\n",
    "    return output\n",
    "\n",
    "train_std_cuda = torch.Tensor(train_std)#.cuda()\n",
    "train_mean_cuda = torch.Tensor(train_mean)#.cuda()\n",
    "\n",
    "def unnormalize(xy):\n",
    "    return xy*(train_std_cuda + 1e-8) + train_mean_cuda"
   ]
  },
  {
   "cell_type": "code",
   "execution_count": 20,
   "metadata": {},
   "outputs": [
    {
     "name": "stdout",
     "output_type": "stream",
     "text": [
      "HELLO\n",
      "TEST ERROR\n",
      "[1945.3783  2174.2908  1849.2938  2058.2087  2161.6912  1711.9542\n",
      " 2025.4667  1523.3986  1204.64    1874.3586  1800.5642  1060.6139\n",
      " 1332.628   1099.2975  1403.9697  1562.8501  2301.053   1686.0698\n",
      " 1619.5568  1699.0001  1962.7858  1841.7693  2784.2317  1823.0938\n",
      " 1725.2952  1889.6437  1832.3918  2107.9065  2343.5042  1976.179\n",
      "   80.34248 2364.618    800.58496 1365.3735  1670.0947  2248.407\n",
      " 1845.5424  1790.6562  1152.5375  2628.206   1965.8754  1551.9246\n",
      "  639.8548   655.286   2059.3132  1098.9893  2324.9893  2375.9797\n",
      " 2125.241   2392.689   1565.0555  1913.6365  2055.1343  1266.8843\n",
      " 1779.5273  1752.244   1673.5432  1211.4729  2104.9053  1689.9348\n",
      " 1925.0334  1738.2103  2438.4514  1772.9098  1148.8159  1300.0983\n",
      " 2620.5422   835.39166 1612.0448  2453.7764  2000.4984   852.8433\n",
      "  298.85233 1816.4675   993.27856 2063.658   1290.7449  1039.1222\n",
      " 2681.4304   650.2544  1838.0286   952.0716  1076.0377   853.93396\n",
      " 1888.7168  2339.316   2169.5708  1229.602   1004.70636 2371.191\n",
      " 1753.4043  1671.0498  1604.1353  2269.166   2236.403   2181.6436\n",
      " 2117.8928  1742.4142  1910.2355  1593.2488 ]\n",
      "MEAN TEST ERROR\n",
      "1708.6511\n",
      "MED TEST ERROR\n",
      "1785.0918\n",
      "STD TEST ERROR\n",
      "537.8151\n"
     ]
    }
   ],
   "source": [
    "sys.path.insert(0, \"VGGish\")\n",
    "from VGGish.models import get_finetune_model\n",
    "\n",
    "deconv = deconvolved_human1\n",
    "centroid = centroid_human1\n",
    "MODEL_PATH = '/home/onyxia/work/hackaton-acoustic/VGGish/model.pt'\n",
    "if (os.path.exists(MODEL_PATH)):\n",
    "    print(\"HELLO\")\n",
    "    file = torch.load(MODEL_PATH)\n",
    "    # Pour multi-channel, il faut CustomVGGish2(in_channels=4, out_channels=2)\n",
    "    model = get_finetune_model(pretrained=True, frozen=True, out_channels=2)\n",
    "    model.state_dict = file['model_state_dict']\n",
    "\n",
    "    test_errors = np.zeros(test_waves.shape[0], dtype=np.float32)\n",
    "\n",
    "    for i in range(test_waves.shape[0]):\n",
    "        with torch.no_grad():\n",
    "            results = torch.squeeze(postprocess_net_output(model(torch.unsqueeze(test_waves[i, :], axis=0)).view(-1, 1)))\n",
    "        \n",
    "        \n",
    "        test_errors[i] = torch.norm(unnormalize(results[:2]) - unnormalize(test_xy[i, :2])).item()\n",
    "\n",
    "    print(\"TEST ERROR\")\n",
    "    print(test_errors)\n",
    "    \n",
    "    print(\"MEAN TEST ERROR\",flush=True)\n",
    "    print(np.mean(test_errors))\n",
    "    print(\"MED TEST ERROR\")\n",
    "    print(np.median(test_errors))\n",
    "    print(\"STD TEST ERROR\")\n",
    "    print(np.std(test_errors))\n",
    "\n",
    "    np.save(os.path.join('/home/onyxia/work/hackaton-acoustic/VGGish/errors', 'test_errors.npy'), np.array(test_errors, dtype=np.float32))    "
   ]
  }
 ],
 "metadata": {
  "kernelspec": {
   "display_name": "base",
   "language": "python",
   "name": "python3"
  },
  "language_info": {
   "codemirror_mode": {
    "name": "ipython",
    "version": 3
   },
   "file_extension": ".py",
   "mimetype": "text/x-python",
   "name": "python",
   "nbconvert_exporter": "python",
   "pygments_lexer": "ipython3",
   "version": "3.11.6"
  }
 },
 "nbformat": 4,
 "nbformat_minor": 2
}
