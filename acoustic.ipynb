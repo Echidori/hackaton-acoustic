{
 "cells": [
  {
   "cell_type": "code",
   "execution_count": 1,
   "metadata": {},
   "outputs": [],
   "source": [
    "import os\n",
    "\n",
    "import pandas as pd\n",
    "import s3fs\n",
    "import zipfile\n",
    "import numpy as np\n",
    "import matplotlib.pyplot as plt\n",
    "from sklearn.model_selection import train_test_split\n",
    "from sklearn.neighbors import KNeighborsRegressor\n",
    "from sklearn.metrics import mean_squared_error\n",
    "from sklearn.linear_model import LinearRegression"
   ]
  },
  {
   "cell_type": "code",
   "execution_count": 2,
   "metadata": {},
   "outputs": [],
   "source": [
    "# Create filesystem object\n",
    "S3_ENDPOINT_URL = \"https://\" + os.environ[\"AWS_S3_ENDPOINT\"]\n",
    "fs = s3fs.S3FileSystem(client_kwargs={'endpoint_url': S3_ENDPOINT_URL})"
   ]
  },
  {
   "cell_type": "code",
   "execution_count": 3,
   "metadata": {},
   "outputs": [
    {
     "data": {
      "text/plain": [
       "['gvimont/diffusion/hackathon-minarm-2024/AIVSAI',\n",
       " 'gvimont/diffusion/hackathon-minarm-2024/Acoustique',\n",
       " 'gvimont/diffusion/hackathon-minarm-2024/Similarité']"
      ]
     },
     "execution_count": 3,
     "metadata": {},
     "output_type": "execute_result"
    }
   ],
   "source": [
    "# Lister les challenges\n",
    "fs.ls(\"gvimont/diffusion/hackathon-minarm-2024\")\n"
   ]
  },
  {
   "cell_type": "code",
   "execution_count": 4,
   "metadata": {},
   "outputs": [
    {
     "data": {
      "text/plain": [
       "['gvimont/diffusion/hackathon-minarm-2024/Acoustique/LivingRoom_preprocessed_hack.zip']"
      ]
     },
     "execution_count": 4,
     "metadata": {},
     "output_type": "execute_result"
    }
   ],
   "source": [
    "# Lister les fichiers d'un challenge\n",
    "fs.ls(\"gvimont/diffusion/hackathon-minarm-2024/Acoustique\")"
   ]
  },
  {
   "cell_type": "code",
   "execution_count": 5,
   "metadata": {},
   "outputs": [
    {
     "data": {
      "text/plain": [
       "[None]"
      ]
     },
     "execution_count": 5,
     "metadata": {},
     "output_type": "execute_result"
    }
   ],
   "source": [
    "# Download the data\n",
    "PATH_IN = 'gvimont/diffusion/hackathon-minarm-2024/Acoustique/LivingRoom_preprocessed_hack.zip'\n",
    "fs.download(PATH_IN, 'data/LivingRoom_preprocessed_hack.zip')"
   ]
  },
  {
   "cell_type": "code",
   "execution_count": 6,
   "metadata": {},
   "outputs": [],
   "source": [
    "# Décompresser les données\n",
    "with zipfile.ZipFile(\"data/LivingRoom_preprocessed_hack.zip\",\"r\") as zip_file:\n",
    "    zip_file.extractall(\"data/\")"
   ]
  },
  {
   "cell_type": "code",
   "execution_count": 7,
   "metadata": {},
   "outputs": [],
   "source": [
    "# Chargement des jeux de données de RIR\n",
    "deconvolved_human1 = np.load('data/LivingRoom_preprocessed_hack/Human1/deconvoled_trim.npy')\n",
    "deconvolved_human2 = np.load('data/LivingRoom_preprocessed_hack/Human2/deconvoled_trim.npy')\n",
    "deconvolved_empty = np.load('data/LivingRoom_preprocessed_hack/Empty/deconvolved.npy')"
   ]
  },
  {
   "cell_type": "code",
   "execution_count": 8,
   "metadata": {},
   "outputs": [
    {
     "name": "stdout",
     "output_type": "stream",
     "text": [
      "Dimensions des données originales du 1er humain:  (1000, 4, 667200)\n",
      "Dimensions de niveaux_rms du 1er humain: (4, 1000)\n",
      "Dimensions des données originales du 2eme humain:  (104, 4, 667200)\n",
      "Dimensions de niveaux_rms du 2eme humain: (4, 104)\n"
     ]
    }
   ],
   "source": [
    "# Calculer les niveaux RMS pour chaque datapoint de chaque micro\n",
    "niveaux_rms_human1 = []\n",
    "niveaux_rms_human2 = []\n",
    "for i in range (4):\n",
    "    niveaux_rms_h1_i = np.sqrt(np.mean(deconvolved_human1[:,i,:]**2, axis=(1)))\n",
    "    niveaux_rms_h2_i = np.sqrt(np.mean(deconvolved_human2[:,i,:]**2, axis=(1)))\n",
    "    niveaux_rms_human1.append(niveaux_rms_h1_i)\n",
    "    niveaux_rms_human2.append(niveaux_rms_h2_i)\n",
    "\n",
    "niveaux_rms_human1 = np.array(niveaux_rms_human1)\n",
    "niveaux_rms_human2 = np.array(niveaux_rms_human2)\n",
    "\n",
    "# Vérifier les dimensions de niveaux_rms\n",
    "print(\"Dimensions des données originales du 1er humain: \", deconvolved_human1.shape)\n",
    "print(\"Dimensions de niveaux_rms du 1er humain:\", niveaux_rms_human1.shape)\n",
    "print(\"Dimensions des données originales du 2eme humain: \", deconvolved_human2.shape)\n",
    "print(\"Dimensions de niveaux_rms du 2eme humain:\", niveaux_rms_human2.shape)"
   ]
  },
  {
   "cell_type": "code",
   "execution_count": 9,
   "metadata": {},
   "outputs": [],
   "source": [
    "# Chargement des jeux de données de positions\n",
    "centroid_human1 = np.load('data/LivingRoom_preprocessed_hack/Human1/centroid.npy')\n",
    "centroid_human2 = np.load('data/LivingRoom_preprocessed_hack/Human2/centroid.npy')"
   ]
  },
  {
   "cell_type": "code",
   "execution_count": 10,
   "metadata": {},
   "outputs": [
    {
     "name": "stdout",
     "output_type": "stream",
     "text": [
      "(1000, 2)\n",
      "(104, 2)\n"
     ]
    }
   ],
   "source": [
    "# Vérification des shapes des données récupérées\n",
    "print(centroid_human1.shape)\n",
    "print(centroid_human2.shape)"
   ]
  },
  {
   "cell_type": "code",
   "execution_count": 11,
   "metadata": {},
   "outputs": [
    {
     "name": "stdout",
     "output_type": "stream",
     "text": [
      "(4, 1104)\n",
      "(1104, 2)\n"
     ]
    }
   ],
   "source": [
    "# Mise en commun de human1 et human2 en un seul jeu de donnée pour les RMS et les positions\n",
    "niveaux_rms = np.concatenate((niveaux_rms_human1, niveaux_rms_human2), axis=1)\n",
    "\n",
    "# on transpose les arrays avec .T pour éviter les conflits pendant la mise en commun,\n",
    "# puis on retranspose derrière\n",
    "positions = np.concatenate((centroid_human1.T, centroid_human2.T), axis=1)\n",
    "positions = positions.T\n",
    "\n",
    "#vérification des shapes de la mise en commun\n",
    "print(niveaux_rms.shape)\n",
    "print(positions.shape)"
   ]
  },
  {
   "cell_type": "code",
   "execution_count": 12,
   "metadata": {},
   "outputs": [],
   "source": [
    "# Préparation des données pour l'entrainement\n",
    "\n",
    "# X : données de niveaux RMS (4, N_datapoints)\n",
    "# y : données de position (N_datapoints, 2)\n",
    "\n",
    "# Diviser les données en ensembles d'entraînement et de test\n",
    "X_train, X_test, y_train, y_test = train_test_split(niveaux_rms.T, positions, test_size=0.2, random_state=42)\n"
   ]
  },
  {
   "cell_type": "markdown",
   "metadata": {},
   "source": [
    "## Algorithmes utilisés:\n",
    " - KNN\n",
    " - Linear Regression\n",
    " - Naive Bayes\n",
    " - SVM\n",
    " - RNN\n"
   ]
  },
  {
   "cell_type": "code",
   "execution_count": 13,
   "metadata": {},
   "outputs": [
    {
     "name": "stdout",
     "output_type": "stream",
     "text": [
      "KNN average distance from real position : 623.9663822906018  mm\n"
     ]
    }
   ],
   "source": [
    "# Implémentation de KNN\n",
    "\n",
    "# Choix des voisins: 4, car c'est celui qui minimise la distance moyenne\n",
    "knn = KNeighborsRegressor(n_neighbors=4)\n",
    "\n",
    "# Entrainement\n",
    "knn.fit(X_train, y_train)\n",
    "\n",
    "# Prediction des positions\n",
    "predictions = knn.predict(X_test)\n",
    "\n",
    "# Evaluation (moyenne de la distance des prédictions par rapport aux distances réelles)\n",
    "knn_eval = np.mean(np.abs(y_test - predictions))\n",
    "print(\"KNN average distance from real position :\", knn_eval, \" mm\")"
   ]
  },
  {
   "cell_type": "code",
   "execution_count": 14,
   "metadata": {},
   "outputs": [
    {
     "name": "stdout",
     "output_type": "stream",
     "text": [
      "Linear Regression average distance from real position: 959.3142318123437  mm\n"
     ]
    }
   ],
   "source": [
    "# Create a linear regression model\n",
    "linear_regression = LinearRegression()\n",
    "\n",
    "# Train the linear regression model\n",
    "linear_regression.fit(X_train, y_train)\n",
    "\n",
    "# Predict positions for test data\n",
    "predictions = linear_regression.predict(X_test)\n",
    "\n",
    "# Evaluation (moyenne de la distance des prédictions par rapport aux distances réelles)\n",
    "lr_eval = np.mean(np.abs(y_test - predictions))\n",
    "print(\"Linear Regression average distance from real position:\", lr_eval, \" mm\")"
   ]
  },
  {
   "cell_type": "markdown",
   "metadata": {},
   "source": []
  },
  {
   "cell_type": "code",
   "execution_count": 15,
   "metadata": {},
   "outputs": [],
   "source": [
    "# Create a RNN model (REQUIRES TENSORFLOW)\n",
    "# import tensorflow as tf\n",
    "# model = tf.keras.models.Sequential([\n",
    "#     tf.keras.layers.Embedding(input_dim=vocab_size, output_dim=32, input_length=max_sequence_length),\n",
    "#     tf.keras.layers.SimpleRNN(32),\n",
    "#     tf.keras.layers.Dense(1, activation='sigmoid')\n",
    "# ])\n",
    "\n",
    "# model.compile(optimizer='adam',\n",
    "#               loss='binary_crossentropy',\n",
    "#               metrics=['accuracy'])\n",
    "\n",
    "# model.fit(X_train, y_train, epochs=5, batch_size=64, validation_split=0.2)"
   ]
  },
  {
   "cell_type": "code",
   "execution_count": 16,
   "metadata": {},
   "outputs": [],
   "source": [
    "# Microphone Locations\n",
    "mic_height = 50.3125\n",
    "feet = 12\n",
    "y_tile = 23.5\n",
    "x_tile = 11 +7/8\n",
    "\n",
    "camera_origin_location = np.array([-6*x_tile-5.75, -y_tile, 45+13/16])*25.4\n",
    "\n",
    "mic_1 = np.array([-11*x_tile - 1, -5*y_tile - 6-3/8, mic_height]) * 25.4 \n",
    "mic_4= np.array([-11*x_tile + 1.25 + 1/16, 2.5*y_tile+3.75, mic_height]) * 25.4\n",
    "mic_6 = np.array([5+3/8, 2+1/8, mic_height]) * 25.4\n",
    "mic_9 = np.array([-3, -6*y_tile - 0.5, mic_height]) * 25.4\n",
    "\n",
    "\n",
    "mic_xyzs = np.stack((mic_1,mic_4, mic_6, mic_9),axis=0)\n",
    "\n",
    "SPEAKER_BOTTOM_RIGHT_Y = (1200.15 + 1196.975 + 1206.5)/ 3\n",
    "SPEAKER_BOTTOM_RIGHT_X = (88.9 + 107.95 + 101.6) / 3\n",
    "SPEAKER_BOTTOM_LEFT_Y = (1327.15 + 1311.55712764 + 1317.625) / 3\n",
    "SPEAKER_BOTTOM_LEFT_X = - 76.98583188\n",
    "\n",
    "speaker_xyz_bottom_right = np.array([SPEAKER_BOTTOM_RIGHT_X, SPEAKER_BOTTOM_RIGHT_Y, 44.5*25.4])\n",
    "speaker_xyz_bottom_left = np.array([SPEAKER_BOTTOM_LEFT_X, SPEAKER_BOTTOM_LEFT_Y, 44.5*25.4])\n",
    "speaker_xyz_top_right = np.array([SPEAKER_BOTTOM_RIGHT_X, SPEAKER_BOTTOM_RIGHT_Y, (44.5+17)*25.4])\n",
    "speaker_xyz_top_left = np.array([SPEAKER_BOTTOM_LEFT_X, SPEAKER_BOTTOM_LEFT_Y, (44.5+17)*25.4])\n",
    "speaker_xyz = (speaker_xyz_bottom_right+speaker_xyz_bottom_left+speaker_xyz_top_right+speaker_xyz_top_left)/4\n",
    "\n",
    "\n",
    "walls = None\n",
    "x_min = - 4000\n",
    "x_max = 500\n",
    "y_min = -4000\n",
    "y_max = 2000\n"
   ]
  },
  {
   "cell_type": "code",
   "execution_count": 17,
   "metadata": {},
   "outputs": [
    {
     "data": {
      "text/plain": [
       "<matplotlib.legend.Legend at 0x7fec768935d0>"
      ]
     },
     "execution_count": 17,
     "metadata": {},
     "output_type": "execute_result"
    },
    {
     "data": {
      "image/png": "[encoded data removed]",
      "text/plain": [
       "<Figure size 640x480 with 1 Axes>"
      ]
     },
     "metadata": {},
     "output_type": "display_data"
    }
   ],
   "source": [
    "## affichier la disposition des microphones.\n",
    "for idx, mic in enumerate(mic_xyzs):\n",
    "    plt.scatter(mic[0], mic[1], label=f'mic {idx+1}')\n",
    "\n",
    "plt.title(\"Répartition des micros\")\n",
    "plt.xlim([-5500, 1000])\n",
    "plt.ylim([-4500, 2500])\n",
    "plt.legend(loc=\"lower left\", title=\"microphone\")"
   ]
  },
  {
   "cell_type": "code",
   "execution_count": 18,
   "metadata": {},
   "outputs": [],
   "source": [
    "from sklearn.preprocessing import StandardScaler\n",
    "\n",
    "# Normalize the input features\n",
    "scaler = StandardScaler()\n",
    "X_train_scaled = scaler.fit_transform(X_train)\n",
    "X_test_scaled = scaler.transform(X_test)\n"
   ]
  },
  {
   "cell_type": "code",
   "execution_count": 19,
   "metadata": {},
   "outputs": [
    {
     "name": "stderr",
     "output_type": "stream",
     "text": [
      "2024-04-24 09:12:32.145379: I external/local_tsl/tsl/cuda/cudart_stub.cc:32] Could not find cuda drivers on your machine, GPU will not be used.\n",
      "2024-04-24 09:12:32.150984: I external/local_tsl/tsl/cuda/cudart_stub.cc:32] Could not find cuda drivers on your machine, GPU will not be used.\n",
      "2024-04-24 09:12:32.207460: I tensorflow/core/platform/cpu_feature_guard.cc:210] This TensorFlow binary is optimized to use available CPU instructions in performance-critical operations.\n",
      "To enable the following instructions: AVX2 AVX512F FMA, in other operations, rebuild TensorFlow with the appropriate compiler flags.\n",
      "2024-04-24 09:12:32.930695: W tensorflow/compiler/tf2tensorrt/utils/py_utils.cc:38] TF-TRT Warning: Could not find TensorRT\n",
      "/opt/mamba/lib/python3.11/site-packages/keras/src/layers/reshaping/reshape.py:39: UserWarning: Do not pass an `input_shape`/`input_dim` argument to a layer. When using Sequential models, prefer using an `Input(shape)` object as the first layer in the model instead.\n",
      "  super().__init__(**kwargs)\n"
     ]
    }
   ],
   "source": [
    "import tensorflow as tf\n",
    "\n",
    "\n",
    "# Reconvertir en image\n",
    "\n",
    "# Define the CNN architecture\n",
    "model = tf.keras.Sequential([\n",
    "    tf.keras.layers.Reshape((4, 1), input_shape=(4,)),  # Reshape for 1D convolution\n",
    "    tf.keras.layers.Conv1D(64, kernel_size=1, activation='relu'),\n",
    "    tf.keras.layers.MaxPooling1D(pool_size=2),\n",
    "    tf.keras.layers.Flatten(),\n",
    "    tf.keras.layers.Dense(128, activation='relu'),\n",
    "    tf.keras.layers.Dense(2)  # Output layer for predicting x, y coordinates\n",
    "])\n",
    "\n",
    "# Compile the model\n",
    "model.compile(optimizer='adam', loss='mse')\n"
   ]
  },
  {
   "cell_type": "code",
   "execution_count": 24,
   "metadata": {},
   "outputs": [
    {
     "name": "stdout",
     "output_type": "stream",
     "text": [
      "Epoch 1/50\n"
     ]
    },
    {
     "name": "stdout",
     "output_type": "stream",
     "text": [
      "\u001b[1m71/71\u001b[0m \u001b[32m━━━━━━━━━━━━━━━━━━━━\u001b[0m\u001b[37m\u001b[0m \u001b[1m0s\u001b[0m 4ms/step - loss: 1518142.2500 - val_loss: 1524869.6250\n",
      "Epoch 2/50\n",
      "\u001b[1m71/71\u001b[0m \u001b[32m━━━━━━━━━━━━━━━━━━━━\u001b[0m\u001b[37m\u001b[0m \u001b[1m0s\u001b[0m 3ms/step - loss: 1534873.1250 - val_loss: 1528350.0000\n",
      "Epoch 3/50\n",
      "\u001b[1m71/71\u001b[0m \u001b[32m━━━━━━━━━━━━━━━━━━━━\u001b[0m\u001b[37m\u001b[0m \u001b[1m0s\u001b[0m 3ms/step - loss: 1560453.5000 - val_loss: 1528256.0000\n",
      "Epoch 4/50\n",
      "\u001b[1m71/71\u001b[0m \u001b[32m━━━━━━━━━━━━━━━━━━━━\u001b[0m\u001b[37m\u001b[0m \u001b[1m0s\u001b[0m 3ms/step - loss: 1541280.2500 - val_loss: 1524356.3750\n",
      "Epoch 5/50\n",
      "\u001b[1m71/71\u001b[0m \u001b[32m━━━━━━━━━━━━━━━━━━━━\u001b[0m\u001b[37m\u001b[0m \u001b[1m0s\u001b[0m 3ms/step - loss: 1568697.8750 - val_loss: 1526553.1250\n",
      "Epoch 6/50\n",
      "\u001b[1m71/71\u001b[0m \u001b[32m━━━━━━━━━━━━━━━━━━━━\u001b[0m\u001b[37m\u001b[0m \u001b[1m0s\u001b[0m 2ms/step - loss: 1593008.1250 - val_loss: 1525326.1250\n",
      "Epoch 7/50\n",
      "\u001b[1m71/71\u001b[0m \u001b[32m━━━━━━━━━━━━━━━━━━━━\u001b[0m\u001b[37m\u001b[0m \u001b[1m0s\u001b[0m 2ms/step - loss: 1574418.2500 - val_loss: 1522212.7500\n",
      "Epoch 8/50\n",
      "\u001b[1m71/71\u001b[0m \u001b[32m━━━━━━━━━━━━━━━━━━━━\u001b[0m\u001b[37m\u001b[0m \u001b[1m0s\u001b[0m 2ms/step - loss: 1538753.2500 - val_loss: 1525080.0000\n",
      "Epoch 9/50\n",
      "\u001b[1m71/71\u001b[0m \u001b[32m━━━━━━━━━━━━━━━━━━━━\u001b[0m\u001b[37m\u001b[0m \u001b[1m0s\u001b[0m 3ms/step - loss: 1503472.3750 - val_loss: 1526544.2500\n",
      "Epoch 10/50\n",
      "\u001b[1m71/71\u001b[0m \u001b[32m━━━━━━━━━━━━━━━━━━━━\u001b[0m\u001b[37m\u001b[0m \u001b[1m0s\u001b[0m 2ms/step - loss: 1534938.8750 - val_loss: 1523607.5000\n",
      "Epoch 11/50\n",
      "\u001b[1m71/71\u001b[0m \u001b[32m━━━━━━━━━━━━━━━━━━━━\u001b[0m\u001b[37m\u001b[0m \u001b[1m0s\u001b[0m 3ms/step - loss: 1510037.5000 - val_loss: 1527343.7500\n",
      "Epoch 12/50\n",
      "\u001b[1m71/71\u001b[0m \u001b[32m━━━━━━━━━━━━━━━━━━━━\u001b[0m\u001b[37m\u001b[0m \u001b[1m0s\u001b[0m 2ms/step - loss: 1536441.6250 - val_loss: 1526327.3750\n",
      "Epoch 13/50\n",
      "\u001b[1m71/71\u001b[0m \u001b[32m━━━━━━━━━━━━━━━━━━━━\u001b[0m\u001b[37m\u001b[0m \u001b[1m0s\u001b[0m 3ms/step - loss: 1540522.5000 - val_loss: 1526227.8750\n",
      "Epoch 14/50\n",
      "\u001b[1m71/71\u001b[0m \u001b[32m━━━━━━━━━━━━━━━━━━━━\u001b[0m\u001b[37m\u001b[0m \u001b[1m0s\u001b[0m 2ms/step - loss: 1538506.1250 - val_loss: 1526899.0000\n",
      "Epoch 15/50\n",
      "\u001b[1m71/71\u001b[0m \u001b[32m━━━━━━━━━━━━━━━━━━━━\u001b[0m\u001b[37m\u001b[0m \u001b[1m0s\u001b[0m 3ms/step - loss: 1514828.0000 - val_loss: 1525589.1250\n",
      "Epoch 16/50\n",
      "\u001b[1m71/71\u001b[0m \u001b[32m━━━━━━━━━━━━━━━━━━━━\u001b[0m\u001b[37m\u001b[0m \u001b[1m0s\u001b[0m 2ms/step - loss: 1549607.0000 - val_loss: 1528398.6250\n",
      "Epoch 17/50\n",
      "\u001b[1m71/71\u001b[0m \u001b[32m━━━━━━━━━━━━━━━━━━━━\u001b[0m\u001b[37m\u001b[0m \u001b[1m0s\u001b[0m 3ms/step - loss: 1554183.7500 - val_loss: 1526979.2500\n",
      "Epoch 18/50\n",
      "\u001b[1m71/71\u001b[0m \u001b[32m━━━━━━━━━━━━━━━━━━━━\u001b[0m\u001b[37m\u001b[0m \u001b[1m0s\u001b[0m 2ms/step - loss: 1529742.5000 - val_loss: 1525886.3750\n",
      "Epoch 19/50\n",
      "\u001b[1m71/71\u001b[0m \u001b[32m━━━━━━━━━━━━━━━━━━━━\u001b[0m\u001b[37m\u001b[0m \u001b[1m0s\u001b[0m 3ms/step - loss: 1517791.0000 - val_loss: 1525627.1250\n",
      "Epoch 20/50\n",
      "\u001b[1m71/71\u001b[0m \u001b[32m━━━━━━━━━━━━━━━━━━━━\u001b[0m\u001b[37m\u001b[0m \u001b[1m0s\u001b[0m 3ms/step - loss: 1558333.2500 - val_loss: 1524986.2500\n",
      "Epoch 21/50\n",
      "\u001b[1m71/71\u001b[0m \u001b[32m━━━━━━━━━━━━━━━━━━━━\u001b[0m\u001b[37m\u001b[0m \u001b[1m0s\u001b[0m 2ms/step - loss: 1547837.7500 - val_loss: 1524530.6250\n",
      "Epoch 22/50\n",
      "\u001b[1m71/71\u001b[0m \u001b[32m━━━━━━━━━━━━━━━━━━━━\u001b[0m\u001b[37m\u001b[0m \u001b[1m0s\u001b[0m 3ms/step - loss: 1539974.5000 - val_loss: 1526254.8750\n",
      "Epoch 23/50\n",
      "\u001b[1m71/71\u001b[0m \u001b[32m━━━━━━━━━━━━━━━━━━━━\u001b[0m\u001b[37m\u001b[0m \u001b[1m0s\u001b[0m 3ms/step - loss: 1499996.3750 - val_loss: 1527620.0000\n",
      "Epoch 24/50\n",
      "\u001b[1m71/71\u001b[0m \u001b[32m━━━━━━━━━━━━━━━━━━━━\u001b[0m\u001b[37m\u001b[0m \u001b[1m0s\u001b[0m 2ms/step - loss: 1605103.1250 - val_loss: 1525757.5000\n",
      "Epoch 25/50\n",
      "\u001b[1m71/71\u001b[0m \u001b[32m━━━━━━━━━━━━━━━━━━━━\u001b[0m\u001b[37m\u001b[0m \u001b[1m0s\u001b[0m 3ms/step - loss: 1546468.1250 - val_loss: 1526398.5000\n",
      "Epoch 26/50\n",
      "\u001b[1m71/71\u001b[0m \u001b[32m━━━━━━━━━━━━━━━━━━━━\u001b[0m\u001b[37m\u001b[0m \u001b[1m0s\u001b[0m 2ms/step - loss: 1584584.7500 - val_loss: 1523767.6250\n",
      "Epoch 27/50\n",
      "\u001b[1m71/71\u001b[0m \u001b[32m━━━━━━━━━━━━━━━━━━━━\u001b[0m\u001b[37m\u001b[0m \u001b[1m0s\u001b[0m 3ms/step - loss: 1487194.1250 - val_loss: 1524592.8750\n",
      "Epoch 28/50\n",
      "\u001b[1m71/71\u001b[0m \u001b[32m━━━━━━━━━━━━━━━━━━━━\u001b[0m\u001b[37m\u001b[0m \u001b[1m0s\u001b[0m 2ms/step - loss: 1525390.1250 - val_loss: 1523547.8750\n",
      "Epoch 29/50\n",
      "\u001b[1m71/71\u001b[0m \u001b[32m━━━━━━━━━━━━━━━━━━━━\u001b[0m\u001b[37m\u001b[0m \u001b[1m0s\u001b[0m 2ms/step - loss: 1481592.6250 - val_loss: 1527149.2500\n",
      "Epoch 30/50\n",
      "\u001b[1m71/71\u001b[0m \u001b[32m━━━━━━━━━━━━━━━━━━━━\u001b[0m\u001b[37m\u001b[0m \u001b[1m0s\u001b[0m 2ms/step - loss: 1564965.7500 - val_loss: 1523147.2500\n",
      "Epoch 31/50\n",
      "\u001b[1m71/71\u001b[0m \u001b[32m━━━━━━━━━━━━━━━━━━━━\u001b[0m\u001b[37m\u001b[0m \u001b[1m0s\u001b[0m 2ms/step - loss: 1506669.7500 - val_loss: 1525831.2500\n",
      "Epoch 32/50\n",
      "\u001b[1m71/71\u001b[0m \u001b[32m━━━━━━━━━━━━━━━━━━━━\u001b[0m\u001b[37m\u001b[0m \u001b[1m0s\u001b[0m 3ms/step - loss: 1517171.1250 - val_loss: 1526169.0000\n",
      "Epoch 33/50\n",
      "\u001b[1m71/71\u001b[0m \u001b[32m━━━━━━━━━━━━━━━━━━━━\u001b[0m\u001b[37m\u001b[0m \u001b[1m0s\u001b[0m 2ms/step - loss: 1516614.2500 - val_loss: 1523517.5000\n",
      "Epoch 34/50\n",
      "\u001b[1m71/71\u001b[0m \u001b[32m━━━━━━━━━━━━━━━━━━━━\u001b[0m\u001b[37m\u001b[0m \u001b[1m0s\u001b[0m 3ms/step - loss: 1500918.5000 - val_loss: 1525292.6250\n",
      "Epoch 35/50\n",
      "\u001b[1m71/71\u001b[0m \u001b[32m━━━━━━━━━━━━━━━━━━━━\u001b[0m\u001b[37m\u001b[0m \u001b[1m0s\u001b[0m 2ms/step - loss: 1541031.2500 - val_loss: 1525259.6250\n",
      "Epoch 36/50\n",
      "\u001b[1m71/71\u001b[0m \u001b[32m━━━━━━━━━━━━━━━━━━━━\u001b[0m\u001b[37m\u001b[0m \u001b[1m0s\u001b[0m 2ms/step - loss: 1518302.3750 - val_loss: 1526592.1250\n",
      "Epoch 37/50\n",
      "\u001b[1m71/71\u001b[0m \u001b[32m━━━━━━━━━━━━━━━━━━━━\u001b[0m\u001b[37m\u001b[0m \u001b[1m0s\u001b[0m 2ms/step - loss: 1541975.3750 - val_loss: 1530639.1250\n",
      "Epoch 38/50\n",
      "\u001b[1m71/71\u001b[0m \u001b[32m━━━━━━━━━━━━━━━━━━━━\u001b[0m\u001b[37m\u001b[0m \u001b[1m0s\u001b[0m 2ms/step - loss: 1505859.2500 - val_loss: 1529688.2500\n",
      "Epoch 39/50\n",
      "\u001b[1m71/71\u001b[0m \u001b[32m━━━━━━━━━━━━━━━━━━━━\u001b[0m\u001b[37m\u001b[0m \u001b[1m0s\u001b[0m 3ms/step - loss: 1561744.6250 - val_loss: 1525557.8750\n",
      "Epoch 40/50\n",
      "\u001b[1m71/71\u001b[0m \u001b[32m━━━━━━━━━━━━━━━━━━━━\u001b[0m\u001b[37m\u001b[0m \u001b[1m0s\u001b[0m 3ms/step - loss: 1548387.3750 - val_loss: 1525161.3750\n",
      "Epoch 41/50\n",
      "\u001b[1m71/71\u001b[0m \u001b[32m━━━━━━━━━━━━━━━━━━━━\u001b[0m\u001b[37m\u001b[0m \u001b[1m0s\u001b[0m 2ms/step - loss: 1516711.3750 - val_loss: 1522167.6250\n",
      "Epoch 42/50\n",
      "\u001b[1m71/71\u001b[0m \u001b[32m━━━━━━━━━━━━━━━━━━━━\u001b[0m\u001b[37m\u001b[0m \u001b[1m0s\u001b[0m 2ms/step - loss: 1591720.0000 - val_loss: 1525511.6250\n",
      "Epoch 43/50\n",
      "\u001b[1m71/71\u001b[0m \u001b[32m━━━━━━━━━━━━━━━━━━━━\u001b[0m\u001b[37m\u001b[0m \u001b[1m0s\u001b[0m 2ms/step - loss: 1532057.3750 - val_loss: 1526579.7500\n",
      "Epoch 44/50\n",
      "\u001b[1m71/71\u001b[0m \u001b[32m━━━━━━━━━━━━━━━━━━━━\u001b[0m\u001b[37m\u001b[0m \u001b[1m0s\u001b[0m 3ms/step - loss: 1572987.3750 - val_loss: 1527501.0000\n",
      "Epoch 45/50\n",
      "\u001b[1m71/71\u001b[0m \u001b[32m━━━━━━━━━━━━━━━━━━━━\u001b[0m\u001b[37m\u001b[0m \u001b[1m0s\u001b[0m 3ms/step - loss: 1565154.5000 - val_loss: 1525192.8750\n",
      "Epoch 46/50\n",
      "\u001b[1m71/71\u001b[0m \u001b[32m━━━━━━━━━━━━━━━━━━━━\u001b[0m\u001b[37m\u001b[0m \u001b[1m0s\u001b[0m 2ms/step - loss: 1513153.2500 - val_loss: 1527172.5000\n",
      "Epoch 47/50\n",
      "\u001b[1m71/71\u001b[0m \u001b[32m━━━━━━━━━━━━━━━━━━━━\u001b[0m\u001b[37m\u001b[0m \u001b[1m0s\u001b[0m 3ms/step - loss: 1517115.3750 - val_loss: 1524566.3750\n",
      "Epoch 48/50\n",
      "\u001b[1m71/71\u001b[0m \u001b[32m━━━━━━━━━━━━━━━━━━━━\u001b[0m\u001b[37m\u001b[0m \u001b[1m0s\u001b[0m 3ms/step - loss: 1488288.0000 - val_loss: 1528876.8750\n",
      "Epoch 49/50\n",
      "\u001b[1m71/71\u001b[0m \u001b[32m━━━━━━━━━━━━━━━━━━━━\u001b[0m\u001b[37m\u001b[0m \u001b[1m0s\u001b[0m 2ms/step - loss: 1593087.0000 - val_loss: 1526429.5000\n",
      "Epoch 50/50\n",
      "\u001b[1m71/71\u001b[0m \u001b[32m━━━━━━━━━━━━━━━━━━━━\u001b[0m\u001b[37m\u001b[0m \u001b[1m0s\u001b[0m 2ms/step - loss: 1504474.0000 - val_loss: 1528770.8750\n"
     ]
    }
   ],
   "source": [
    "# Train the model\n",
    "history = model.fit(X_train, y_train, validation_split=0.2, epochs=50, batch_size=10)\n"
   ]
  },
  {
   "cell_type": "code",
   "execution_count": 25,
   "metadata": {},
   "outputs": [
    {
     "name": "stdout",
     "output_type": "stream",
     "text": [
      "\u001b[1m7/7\u001b[0m \u001b[32m━━━━━━━━━━━━━━━━━━━━\u001b[0m\u001b[37m\u001b[0m \u001b[1m0s\u001b[0m 2ms/step \n",
      "Average Euclidean distance from actual positions: 1633.40 mm\n"
     ]
    }
   ],
   "source": [
    "# Evaluate the model on the test set\n",
    "#test_loss = model.evaluate(X_test_scaled, y_test)\n",
    "#print(\"Test loss (MSE):\", test_loss)\n",
    "\n",
    "from sklearn.metrics import mean_squared_error\n",
    "import numpy as np\n",
    "\n",
    "# Calculate predictions\n",
    "predictions = model.predict(X_test)\n",
    "\n",
    "# Calculate Euclidean distance between the predicted and actual positions\n",
    "errors = np.sqrt(np.sum((y_test - predictions)**2, axis=1))\n",
    "average_error = np.mean(errors)\n",
    "\n",
    "print(\"Average Euclidean distance from actual positions: {:.2f} mm\".format(average_error))\n",
    "\n"
   ]
  },
  {
   "cell_type": "code",
   "execution_count": 22,
   "metadata": {},
   "outputs": [
    {
     "data": {
      "image/png": "[encoded data removed]",
      "text/plain": [
       "<Figure size 640x480 with 1 Axes>"
      ]
     },
     "metadata": {},
     "output_type": "display_data"
    }
   ],
   "source": [
    "import matplotlib.pyplot as plt\n",
    "\n",
    "# Plot training & validation loss values\n",
    "plt.plot(history.history['loss'], label='Train')\n",
    "plt.plot(history.history['val_loss'], label='Validation')\n",
    "plt.title('Model loss')\n",
    "plt.ylabel('Loss')\n",
    "plt.xlabel('Epoch')\n",
    "plt.legend(loc='upper right')\n",
    "plt.show()"
   ]
  }
 ],
 "metadata": {
  "kernelspec": {
   "display_name": "base",
   "language": "python",
   "name": "python3"
  },
  "language_info": {
   "codemirror_mode": {
    "name": "ipython",
    "version": 3
   },
   "file_extension": ".py",
   "mimetype": "text/x-python",
   "name": "python",
   "nbconvert_exporter": "python",
   "pygments_lexer": "ipython3",
   "version": "3.11.6"
  }
 },
 "nbformat": 4,
 "nbformat_minor": 2
}
