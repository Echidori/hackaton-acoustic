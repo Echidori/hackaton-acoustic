{
 "cells": [
  {
   "cell_type": "code",
   "execution_count": 1,
   "metadata": {},
   "outputs": [
    {
     "name": "stderr",
     "output_type": "stream",
     "text": [
      "2024-04-25 10:56:28.201982: I tensorflow/core/platform/cpu_feature_guard.cc:210] This TensorFlow binary is optimized to use available CPU instructions in performance-critical operations.\n",
      "To enable the following instructions: AVX2 AVX512F FMA, in other operations, rebuild TensorFlow with the appropriate compiler flags.\n",
      "2024-04-25 10:56:29.110616: W tensorflow/compiler/tf2tensorrt/utils/py_utils.cc:38] TF-TRT Warning: Could not find TensorRT\n"
     ]
    }
   ],
   "source": [
    "# On met ici toutes les bibliothèques utilisées pendant le projet\n",
    "# Si nécessaire, installer les modules manquants en fonction des erreurs\n",
    "# que cette node peut produire (par exemple, tensorflow, pytorch et librosa)\n",
    "\n",
    "import librosa\n",
    "import matplotlib.pyplot as plt\n",
    "import numpy as np\n",
    "import os\n",
    "import pandas as pd\n",
    "import s3fs\n",
    "import sys\n",
    "import tensorflow as tf\n",
    "import torch\n",
    "import zipfile\n",
    "from sklearn.linear_model import LinearRegression\n",
    "from sklearn.metrics import mean_squared_error\n",
    "from sklearn.model_selection import train_test_split\n",
    "from sklearn.neighbors import KNeighborsRegressor"
   ]
  },
  {
   "cell_type": "code",
   "execution_count": 5,
   "metadata": {},
   "outputs": [],
   "source": [
    "# Create filesystem object\n",
    "S3_ENDPOINT_URL = \"https://\" + os.environ[\"AWS_S3_ENDPOINT\"]\n",
    "fs = s3fs.S3FileSystem(client_kwargs={'endpoint_url': S3_ENDPOINT_URL})"
   ]
  },
  {
   "cell_type": "code",
   "execution_count": 6,
   "metadata": {},
   "outputs": [
    {
     "data": {
      "text/plain": [
       "['gvimont/diffusion/hackathon-minarm-2024/AIVSAI',\n",
       " 'gvimont/diffusion/hackathon-minarm-2024/Acoustique',\n",
       " 'gvimont/diffusion/hackathon-minarm-2024/Similarité']"
      ]
     },
     "execution_count": 6,
     "metadata": {},
     "output_type": "execute_result"
    }
   ],
   "source": [
    "# Lister les challenges\n",
    "fs.ls(\"gvimont/diffusion/hackathon-minarm-2024\")\n"
   ]
  },
  {
   "cell_type": "code",
   "execution_count": 7,
   "metadata": {},
   "outputs": [
    {
     "data": {
      "text/plain": [
       "['gvimont/diffusion/hackathon-minarm-2024/Acoustique/LivingRoom_preprocessed_hack.zip']"
      ]
     },
     "execution_count": 7,
     "metadata": {},
     "output_type": "execute_result"
    }
   ],
   "source": [
    "# Lister les fichiers d'un challenge\n",
    "fs.ls(\"gvimont/diffusion/hackathon-minarm-2024/Acoustique\")"
   ]
  },
  {
   "cell_type": "code",
   "execution_count": 8,
   "metadata": {},
   "outputs": [
    {
     "data": {
      "text/plain": [
       "[None]"
      ]
     },
     "execution_count": 8,
     "metadata": {},
     "output_type": "execute_result"
    }
   ],
   "source": [
    "# Download the data\n",
    "PATH_IN = 'gvimont/diffusion/hackathon-minarm-2024/Acoustique/LivingRoom_preprocessed_hack.zip'\n",
    "fs.download(PATH_IN, 'data/LivingRoom_preprocessed_hack.zip')"
   ]
  },
  {
   "cell_type": "code",
   "execution_count": 9,
   "metadata": {},
   "outputs": [],
   "source": [
    "# Décompresser les données\n",
    "with zipfile.ZipFile(\"data/LivingRoom_preprocessed_hack.zip\",\"r\") as zip_file:\n",
    "    zip_file.extractall(\"data/\")"
   ]
  },
  {
   "cell_type": "code",
   "execution_count": 2,
   "metadata": {},
   "outputs": [],
   "source": [
    "# Chargement des jeux de données de RIR\n",
    "deconvolved_human1 = np.load('data/LivingRoom_preprocessed_hack/Human1/deconvoled_trim.npy')\n",
    "deconvolved_human2 = np.load('data/LivingRoom_preprocessed_hack/Human2/deconvoled_trim.npy')\n",
    "deconvolved_empty = np.load('data/LivingRoom_preprocessed_hack/Empty/deconvolved.npy')"
   ]
  },
  {
   "cell_type": "code",
   "execution_count": 22,
   "metadata": {},
   "outputs": [
    {
     "name": "stdout",
     "output_type": "stream",
     "text": [
      "Dimensions des données originales du 1er humain:  (1000, 4, 667200)\n",
      "Dimensions de niveaux_rms du 1er humain: (4, 1000)\n",
      "Dimensions des données originales du 2eme humain:  (104, 4, 667200)\n",
      "Dimensions de niveaux_rms du 2eme humain: (4, 104)\n"
     ]
    }
   ],
   "source": [
    "# Calculer les niveaux RMS pour chaque datapoint de chaque micro\n",
    "niveaux_rms_human1 = []\n",
    "niveaux_rms_human2 = []\n",
    "for i in range (4):\n",
    "    niveaux_rms_h1_i = np.sqrt(np.mean(deconvolved_human1[:,i,:]**2, axis=(1)))\n",
    "    niveaux_rms_h2_i = np.sqrt(np.mean(deconvolved_human2[:,i,:]**2, axis=(1)))\n",
    "    niveaux_rms_human1.append(niveaux_rms_h1_i)\n",
    "    niveaux_rms_human2.append(niveaux_rms_h2_i)\n",
    "\n",
    "niveaux_rms_human1 = np.array(niveaux_rms_human1)\n",
    "niveaux_rms_human2 = np.array(niveaux_rms_human2)\n",
    "\n",
    "# Vérifier les dimensions de niveaux_rms\n",
    "print(\"Dimensions des données originales du 1er humain: \", deconvolved_human1.shape)\n",
    "print(\"Dimensions de niveaux_rms du 1er humain:\", niveaux_rms_human1.shape)\n",
    "print(\"Dimensions des données originales du 2eme humain: \", deconvolved_human2.shape)\n",
    "print(\"Dimensions de niveaux_rms du 2eme humain:\", niveaux_rms_human2.shape)"
   ]
  },
  {
   "cell_type": "code",
   "execution_count": 3,
   "metadata": {},
   "outputs": [],
   "source": [
    "# Chargement des jeux de données de positions\n",
    "centroid_human1 = np.load('data/LivingRoom_preprocessed_hack/Human1/centroid.npy')\n",
    "centroid_human2 = np.load('data/LivingRoom_preprocessed_hack/Human2/centroid.npy')"
   ]
  },
  {
   "cell_type": "code",
   "execution_count": 13,
   "metadata": {},
   "outputs": [
    {
     "name": "stdout",
     "output_type": "stream",
     "text": [
      "(1000, 2)\n",
      "(104, 2)\n"
     ]
    }
   ],
   "source": [
    "# Vérification des shapes des données récupérées\n",
    "print(centroid_human1.shape)\n",
    "print(centroid_human2.shape)"
   ]
  },
  {
   "cell_type": "code",
   "execution_count": 25,
   "metadata": {},
   "outputs": [
    {
     "name": "stdout",
     "output_type": "stream",
     "text": [
      "(4, 1104)\n",
      "(1104, 2)\n"
     ]
    }
   ],
   "source": [
    "# Mise en commun de human1 et human2 en un seul jeu de donnée pour les RMS et les positions\n",
    "niveaux_rms = np.concatenate((niveaux_rms_human1, niveaux_rms_human2), axis=1)\n",
    "\n",
    "# on transpose les arrays avec .T pour éviter les conflits pendant la mise en commun,\n",
    "# puis on retranspose derrière\n",
    "positions = np.concatenate((centroid_human1.T, centroid_human2.T), axis=1)\n",
    "positions = positions.T\n",
    "\n",
    "#vérification des shapes de la mise en commun\n",
    "print(niveaux_rms.shape)\n",
    "print(positions.shape)"
   ]
  },
  {
   "cell_type": "code",
   "execution_count": 26,
   "metadata": {},
   "outputs": [
    {
     "name": "stdout",
     "output_type": "stream",
     "text": [
      "(883, 4)\n",
      "(883, 3)\n",
      "(883, 2)\n",
      "(883, 1)\n"
     ]
    }
   ],
   "source": [
    "# Préparation des données pour l'entrainement\n",
    "\n",
    "# X : données de niveaux RMS (4, N_datapoints)\n",
    "# y : données de position (N_datapoints, 2)\n",
    "\n",
    "# Diviser les données en ensembles d'entraînement et de test\n",
    "# On transpose X pour avoir N_datapoints en premier pour les deux datasets\n",
    "X_train, X_test, y_train, y_test = train_test_split(niveaux_rms.T, positions, test_size=0.2, random_state=42)\n",
    "\n",
    "# Réduire les données à 3, 2 et 1 micro pour faire des comparaisons avec le nombre de micros\n",
    "# Division des données au nombre de micros respectifs en ensembles d'entraînement et de test également\n",
    "X_train_3, X_test_3, y_train_3, y_test_3 = train_test_split(niveaux_rms[0:3,:].T, positions, test_size=0.2, random_state=42)\n",
    "X_train_2, X_test_2, y_train_2, y_test_2 = train_test_split(niveaux_rms[0:2,:].T, positions, test_size=0.2, random_state=42)\n",
    "X_train_1, X_test_1, y_train_1, y_test_1 = train_test_split(niveaux_rms[0:1,:].T, positions, test_size=0.2, random_state=42)\n",
    "\n",
    "# Vérification que les données divisées aient bien la bonne shape pour s'entrainer et tester les modèles au nombre de micros voulus\n",
    "# Rappel: Shape des données = (N_datapoints, N_micros)\n",
    "print(X_train.shape)\n",
    "print(X_train_3.shape)\n",
    "print(X_train_2.shape)\n",
    "print(X_train_1.shape)\n"
   ]
  },
  {
   "cell_type": "markdown",
   "metadata": {},
   "source": [
    "## Algorithmes utilisés:\n",
    " - KNN \n",
    " - Linear Regression\n",
    " - CNN classique\n",
    " - VGGish\n",
    "\n",
    "KNN et la régression linéaire étant tous les deux utilisés dans le papier, ils seront comparés aux résultats du livre pour le nombre de microphones correspondants. CNN ne sera utilisé qu'avec 4 microphones, pas moins."
   ]
  },
  {
   "cell_type": "code",
   "execution_count": 16,
   "metadata": {},
   "outputs": [],
   "source": [
    "# Implémentation de KNN\n",
    "\n",
    "# Choix des voisins: 4, car c'est celui qui minimise la distance moyenne pour les 4 micros\n",
    "# On considère les 4 micros comme le \"standard\" pour l'entrainement et la création des modèles qui suivent\n",
    "\n",
    "knn = KNeighborsRegressor(n_neighbors=4)\n",
    "knn_3 = KNeighborsRegressor(n_neighbors=4)\n",
    "knn_2 = KNeighborsRegressor(n_neighbors=4)\n",
    "knn_1 = KNeighborsRegressor(n_neighbors=4)\n",
    "\n",
    "# Entrainement du modèle knn pour 4 à 1 micro\n",
    "knn.fit(X_train, y_train)\n",
    "knn_3.fit(X_train_3, y_train_3)\n",
    "knn_2.fit(X_train_2, y_train_2)\n",
    "knn_1.fit(X_train_1, y_train_1)\n",
    "\n",
    "# Prediction des positions pour chaque knn\n",
    "predictions = knn.predict(X_test)\n",
    "predictions_3 = knn_3.predict(X_test_3)\n",
    "predictions_2 = knn_2.predict(X_test_2)\n",
    "predictions_1 = knn_1.predict(X_test_1)"
   ]
  },
  {
   "cell_type": "code",
   "execution_count": 17,
   "metadata": {},
   "outputs": [
    {
     "name": "stdout",
     "output_type": "stream",
     "text": [
      "KNN distance moyenne par rapport à la position réelle pour 4 microphones: 62.4 cm, écart-type: 64.25 cm\n",
      "KNN distance moyenne par rapport à la position réelle pour 3 microphones: 79.55 cm, écart-type: 71.57 cm\n",
      "KNN distance moyenne par rapport à la position réelle pour 2 microphones: 93.68 cm, écart-type: 68.5 cm\n",
      "KNN distance moyenne par rapport à la position réelle pour 1 microphone: 103.44 cm, écart-type: 72.9 cm\n"
     ]
    }
   ],
   "source": [
    "# Evaluation (moyenne de la distance des prédictions par rapport aux distances réelles)\n",
    "# On divise par 10 car les résultats sont en milimètres (nous voulons des centimètres pour comparer avec le livre)\n",
    "knn_eval = np.mean(np.abs(y_test - predictions)) /10\n",
    "knn_eval_3 = np.mean(np.abs(y_test_3 - predictions_3)) /10\n",
    "knn_eval_2 = np.mean(np.abs(y_test_2 - predictions_2)) /10\n",
    "knn_eval_1 = np.mean(np.abs(y_test_1 - predictions_1)) /10\n",
    "\n",
    "# Calcul de l'ecart-type, pour indiquer l'écart des prédictions par rapport à la moyenne\n",
    "knn_std = np.std(np.abs(y_test - predictions)) /10\n",
    "knn_std_3 = np.std(np.abs(y_test_3 - predictions_3)) /10\n",
    "knn_std_2 = np.std(np.abs(y_test_2 - predictions_2)) /10\n",
    "knn_std_1 = np.std(np.abs(y_test_1 - predictions_1)) /10\n",
    "\n",
    "# Comparaison des résultats pour le nombre de micros pour les KNN\n",
    "# Pour comparer les résultats au papier, on passe les données en cm\n",
    "# On arrondit également à deux chiffres après la virgule\n",
    "print(\"KNN distance moyenne par rapport à la position réelle pour 4 microphones:\", np.round(knn_eval, 2), \"cm, écart-type:\", np.round(knn_std, 2), \"cm\")\n",
    "print(\"KNN distance moyenne par rapport à la position réelle pour 3 microphones:\", np.round(knn_eval_3, 2), \"cm, écart-type:\", np.round(knn_std_3, 2), \"cm\")\n",
    "print(\"KNN distance moyenne par rapport à la position réelle pour 2 microphones:\", np.round(knn_eval_2, 2), \"cm, écart-type:\", np.round(knn_std_2, 2), \"cm\")\n",
    "print(\"KNN distance moyenne par rapport à la position réelle pour 1 microphone:\", np.round(knn_eval_1, 2), \"cm, écart-type:\", np.round(knn_std_1, 2), \"cm\")"
   ]
  },
  {
   "cell_type": "code",
   "execution_count": 18,
   "metadata": {},
   "outputs": [],
   "source": [
    "# Implémentation de régression linéaire\n",
    "\n",
    "# Création du modèle de regression linéaire\n",
    "linear_regression = LinearRegression()\n",
    "linear_regression_3 = LinearRegression()\n",
    "linear_regression_2 = LinearRegression()\n",
    "linear_regression_1 = LinearRegression()\n",
    "\n",
    "# Entrainement des modèles\n",
    "linear_regression.fit(X_train, y_train)\n",
    "linear_regression_3.fit(X_train_3, y_train_3)\n",
    "linear_regression_2.fit(X_train_2, y_train_2)\n",
    "linear_regression_1.fit(X_train_1, y_train_1)\n",
    "\n",
    "# Predictions des positions pour chaque modèle\n",
    "predictions = linear_regression.predict(X_test)\n",
    "predictions_3 = linear_regression_3.predict(X_test_3)\n",
    "predictions_2 = linear_regression_2.predict(X_test_2)\n",
    "predictions_1 = linear_regression_1.predict(X_test_1)"
   ]
  },
  {
   "cell_type": "code",
   "execution_count": 19,
   "metadata": {},
   "outputs": [
    {
     "name": "stdout",
     "output_type": "stream",
     "text": [
      "Linear Regression distance moyenne par rapport à la position réelle pour 4 microphones: 95.93 cm, écart-type: 63.78 cm\n",
      "Linear Regression distance moyenne par rapport à la position réelle pour 3 microphones: 100.03 cm, écart-type: 65.88 cm\n",
      "Linear Regression distance moyenne par rapport à la position réelle pour 2 microphones: 101.67 cm, écart-type: 65.72 cm\n",
      "Linear Regression distance moyenne par rapport à la position réelle pour 1 microphone: 104.03 cm, écart-type: 64.52 cm\n"
     ]
    }
   ],
   "source": [
    "# Evaluation (moyenne de la distance des prédictions par rapport aux distances réelles)\n",
    "# On divise par 10 car les résultats sont en milimètres (nous voulons des centimètres pour comparer avec le livre)\n",
    "lr_eval = np.mean(np.abs(y_test - predictions)) /10\n",
    "lr_eval_3 = np.mean(np.abs(y_test_3 - predictions_3)) /10\n",
    "lr_eval_2 = np.mean(np.abs(y_test_2 - predictions_2)) /10\n",
    "lr_eval_1 = np.mean(np.abs(y_test_1 - predictions_1)) /10\n",
    "\n",
    "# Calcul de l'ecart-type, pour indiquer l'écart des prédictions par rapport à la moyenne\n",
    "lr_std = np.std(np.abs(y_test - predictions)) /10\n",
    "lr_std_3 = np.std(np.abs(y_test_3 - predictions_3)) /10\n",
    "lr_std_2 = np.std(np.abs(y_test_2 - predictions_2)) /10\n",
    "lr_std_1 = np.std(np.abs(y_test_1 - predictions_1)) /10\n",
    "\n",
    "# Comparaison des résultats pour le nombre de micros\n",
    "# On arrondit également à deux chiffres après la virgule\n",
    "print(\"Linear Regression distance moyenne par rapport à la position réelle pour 4 microphones:\", np.round(lr_eval, 2), \"cm, écart-type:\", np.round(lr_std, 2), \"cm\")\n",
    "print(\"Linear Regression distance moyenne par rapport à la position réelle pour 3 microphones:\", np.round(lr_eval_3, 2), \"cm, écart-type:\", np.round(lr_std_3, 2), \"cm\")\n",
    "print(\"Linear Regression distance moyenne par rapport à la position réelle pour 2 microphones:\", np.round(lr_eval_2, 2), \"cm, écart-type:\", np.round(lr_std_2, 2), \"cm\")\n",
    "print(\"Linear Regression distance moyenne par rapport à la position réelle pour 1 microphone:\", np.round(lr_eval_1, 2), \"cm, écart-type:\", np.round(lr_std_1, 2), \"cm\")"
   ]
  },
  {
   "cell_type": "markdown",
   "metadata": {},
   "source": [
    "### Comparaison des résultats en fonction du nombre de micros avec les résultats du papier sur les modèles en commun\n",
    "Comme on peut le constater, en mettant nos résultats dans le même format que ceux du papier (en passant de mm en cm), on peut vérifier que nos résultats sont comparables à ceux du papier en terme d'ordre de grandeur, comme l'illustre le plot de comparaison de la prochaine node.\n",
    "\n",
    "Similairement, on remarque que le nombre de micros a une influence plus ou moins grande sur la précision des prédictions:\n",
    "On voit clairement que, bien que le KNN soit le plus précis pour 4 micros, il est également celui qui montre un plus grand écart dans la précision des prédictions en baissant le nombre de microphones, alors que la régression linéaire reste relativement constante dans sa performance.\n",
    "\n",
    "Peu importe le modèle, il est clair que la précision des prédictions est directement corrélée au nombre de micros utilisés."
   ]
  },
  {
   "cell_type": "code",
   "execution_count": 20,
   "metadata": {},
   "outputs": [
    {
     "data": {
      "image/png": "[encoded data removed]",
      "text/plain": [
       "<Figure size 640x480 with 1 Axes>"
      ]
     },
     "metadata": {},
     "output_type": "display_data"
    }
   ],
   "source": [
    "# Plot des résultats de KNN et Linear Regression face aux résultats du livre\n",
    "\n",
    "# Création des arrays contenant les distances moyennes,\n",
    "# de nos résultats et de ceux du livre\n",
    "# Attention: nous ne mettons pas nos résultats pour 3 micros car le livre non plus\n",
    "knn_avg_dists = [knn_eval_1, knn_eval_2, knn_eval]\n",
    "lr_avg_dists = [lr_eval_1, lr_eval_2, lr_eval]\n",
    "knn_book = [157.3, 123.0, 93.2]\n",
    "lr_book = [168.4, 165.3, 154.5]\n",
    "\n",
    "# Simple array du nombres de microphones\n",
    "microphone_counts = [1, 2, 4]\n",
    "\n",
    "plt.plot(microphone_counts, knn_avg_dists, marker='o', color='skyblue', linestyle='-', label=\"KNN\")\n",
    "plt.plot(microphone_counts, lr_avg_dists, marker='o', color='orange', linestyle='-', label=\"Linear Regression\")\n",
    "plt.plot(microphone_counts, knn_book, marker='o', color='blue', linestyle='-', label=\"KNN du papier\")\n",
    "plt.plot(microphone_counts, lr_book, marker='o', color='red', linestyle='-', label=\"Linear Regression du papier\")\n",
    "plt.xticks(microphone_counts)\n",
    "plt.xlabel('Nombre de micros')\n",
    "plt.ylabel('Distance moyenne')\n",
    "plt.title('Distance moyenne de la prédiction de la position réelle en fonction du modèle et du nombre de microphones')\n",
    "plt.legend()\n",
    "plt.show()"
   ]
  },
  {
   "cell_type": "code",
   "execution_count": 27,
   "metadata": {},
   "outputs": [],
   "source": [
    "# Implementation CNN avec Tensorflow\n",
    "\n",
    "# Definition de l'architecture du Convolution Neural Network\n",
    "model = tf.keras.Sequential([\n",
    "    tf.keras.layers.Reshape((4, 1), input_shape=(4,)),\n",
    "    tf.keras.layers.Conv1D(64, kernel_size=1, activation='relu'),\n",
    "    tf.keras.layers.MaxPooling1D(pool_size=2),\n",
    "    tf.keras.layers.Flatten(),\n",
    "    tf.keras.layers.Dense(128, activation='relu'),\n",
    "    tf.keras.layers.Dense(2)\n",
    "])\n",
    "\n",
    "# Compile the model\n",
    "model.compile(optimizer='adam', loss='mse')\n"
   ]
  },
  {
   "cell_type": "code",
   "execution_count": 28,
   "metadata": {},
   "outputs": [
    {
     "name": "stdout",
     "output_type": "stream",
     "text": [
      "Epoch 1/20\n"
     ]
    },
    {
     "name": "stderr",
     "output_type": "stream",
     "text": [
      "WARNING: All log messages before absl::InitializeLog() is called are written to STDERR\n",
      "I0000 00:00:1714039832.258275   26201 service.cc:145] XLA service 0x7fc7f0003f50 initialized for platform CUDA (this does not guarantee that XLA will be used). Devices:\n",
      "I0000 00:00:1714039832.264228   26201 service.cc:153]   StreamExecutor device (0): Tesla T4, Compute Capability 7.5\n",
      "2024-04-25 10:10:32.479792: I tensorflow/compiler/mlir/tensorflow/utils/dump_mlir_util.cc:268] disabling MLIR crash reproducer, set env var `MLIR_CRASH_REPRODUCER_DIRECTORY` to enable.\n",
      "2024-04-25 10:10:32.780421: I external/local_xla/xla/stream_executor/cuda/cuda_dnn.cc:465] Loaded cuDNN version 8902\n"
     ]
    },
    {
     "name": "stdout",
     "output_type": "stream",
     "text": [
      "\u001b[1m64/71\u001b[0m \u001b[32m━━━━━━━━━━━━━━━━━━\u001b[0m\u001b[37m━━\u001b[0m \u001b[1m0s\u001b[0m 2ms/step - loss: 3926024.0000"
     ]
    },
    {
     "name": "stderr",
     "output_type": "stream",
     "text": [
      "I0000 00:00:1714039834.753713   26201 device_compiler.h:188] Compiled cluster using XLA!  This line is logged at most once for the lifetime of the process.\n"
     ]
    },
    {
     "name": "stdout",
     "output_type": "stream",
     "text": [
      "\u001b[1m71/71\u001b[0m \u001b[32m━━━━━━━━━━━━━━━━━━━━\u001b[0m\u001b[37m\u001b[0m \u001b[1m6s\u001b[0m 23ms/step - loss: 3921498.7500 - val_loss: 4063697.0000\n",
      "Epoch 2/20\n",
      "\u001b[1m71/71\u001b[0m \u001b[32m━━━━━━━━━━━━━━━━━━━━\u001b[0m\u001b[37m\u001b[0m \u001b[1m0s\u001b[0m 3ms/step - loss: 3784323.5000 - val_loss: 4008744.2500\n",
      "Epoch 3/20\n",
      "\u001b[1m71/71\u001b[0m \u001b[32m━━━━━━━━━━━━━━━━━━━━\u001b[0m\u001b[37m\u001b[0m \u001b[1m0s\u001b[0m 3ms/step - loss: 3821522.0000 - val_loss: 3840998.2500\n",
      "Epoch 4/20\n",
      "\u001b[1m71/71\u001b[0m \u001b[32m━━━━━━━━━━━━━━━━━━━━\u001b[0m\u001b[37m\u001b[0m \u001b[1m0s\u001b[0m 4ms/step - loss: 3484322.5000 - val_loss: 3518957.2500\n",
      "Epoch 5/20\n",
      "\u001b[1m71/71\u001b[0m \u001b[32m━━━━━━━━━━━━━━━━━━━━\u001b[0m\u001b[37m\u001b[0m \u001b[1m0s\u001b[0m 3ms/step - loss: 3082096.7500 - val_loss: 3054747.0000\n",
      "Epoch 6/20\n",
      "\u001b[1m71/71\u001b[0m \u001b[32m━━━━━━━━━━━━━━━━━━━━\u001b[0m\u001b[37m\u001b[0m \u001b[1m0s\u001b[0m 3ms/step - loss: 2828532.5000 - val_loss: 2538027.5000\n",
      "Epoch 7/20\n",
      "\u001b[1m71/71\u001b[0m \u001b[32m━━━━━━━━━━━━━━━━━━━━\u001b[0m\u001b[37m\u001b[0m \u001b[1m0s\u001b[0m 3ms/step - loss: 2376507.7500 - val_loss: 2094110.0000\n",
      "Epoch 8/20\n",
      "\u001b[1m71/71\u001b[0m \u001b[32m━━━━━━━━━━━━━━━━━━━━\u001b[0m\u001b[37m\u001b[0m \u001b[1m0s\u001b[0m 3ms/step - loss: 1977263.0000 - val_loss: 1786639.0000\n",
      "Epoch 9/20\n",
      "\u001b[1m71/71\u001b[0m \u001b[32m━━━━━━━━━━━━━━━━━━━━\u001b[0m\u001b[37m\u001b[0m \u001b[1m0s\u001b[0m 3ms/step - loss: 1701803.6250 - val_loss: 1627574.2500\n",
      "Epoch 10/20\n",
      "\u001b[1m71/71\u001b[0m \u001b[32m━━━━━━━━━━━━━━━━━━━━\u001b[0m\u001b[37m\u001b[0m \u001b[1m0s\u001b[0m 3ms/step - loss: 1646215.6250 - val_loss: 1553246.3750\n",
      "Epoch 11/20\n",
      "\u001b[1m71/71\u001b[0m \u001b[32m━━━━━━━━━━━━━━━━━━━━\u001b[0m\u001b[37m\u001b[0m \u001b[1m0s\u001b[0m 3ms/step - loss: 1568593.0000 - val_loss: 1524680.1250\n",
      "Epoch 12/20\n",
      "\u001b[1m71/71\u001b[0m \u001b[32m━━━━━━━━━━━━━━━━━━━━\u001b[0m\u001b[37m\u001b[0m \u001b[1m0s\u001b[0m 4ms/step - loss: 1567649.7500 - val_loss: 1516456.1250\n",
      "Epoch 13/20\n",
      "\u001b[1m71/71\u001b[0m \u001b[32m━━━━━━━━━━━━━━━━━━━━\u001b[0m\u001b[37m\u001b[0m \u001b[1m0s\u001b[0m 3ms/step - loss: 1548463.0000 - val_loss: 1515753.5000\n",
      "Epoch 14/20\n",
      "\u001b[1m71/71\u001b[0m \u001b[32m━━━━━━━━━━━━━━━━━━━━\u001b[0m\u001b[37m\u001b[0m \u001b[1m0s\u001b[0m 3ms/step - loss: 1562268.8750 - val_loss: 1515912.3750\n",
      "Epoch 15/20\n",
      "\u001b[1m71/71\u001b[0m \u001b[32m━━━━━━━━━━━━━━━━━━━━\u001b[0m\u001b[37m\u001b[0m \u001b[1m0s\u001b[0m 3ms/step - loss: 1530844.1250 - val_loss: 1516994.3750\n",
      "Epoch 16/20\n",
      "\u001b[1m71/71\u001b[0m \u001b[32m━━━━━━━━━━━━━━━━━━━━\u001b[0m\u001b[37m\u001b[0m \u001b[1m0s\u001b[0m 3ms/step - loss: 1527911.5000 - val_loss: 1519075.6250\n",
      "Epoch 17/20\n",
      "\u001b[1m71/71\u001b[0m \u001b[32m━━━━━━━━━━━━━━━━━━━━\u001b[0m\u001b[37m\u001b[0m \u001b[1m0s\u001b[0m 3ms/step - loss: 1556247.2500 - val_loss: 1520735.5000\n",
      "Epoch 18/20\n",
      "\u001b[1m71/71\u001b[0m \u001b[32m━━━━━━━━━━━━━━━━━━━━\u001b[0m\u001b[37m\u001b[0m \u001b[1m0s\u001b[0m 3ms/step - loss: 1567498.3750 - val_loss: 1522094.6250\n",
      "Epoch 19/20\n",
      "\u001b[1m71/71\u001b[0m \u001b[32m━━━━━━━━━━━━━━━━━━━━\u001b[0m\u001b[37m\u001b[0m \u001b[1m0s\u001b[0m 3ms/step - loss: 1552769.1250 - val_loss: 1523222.7500\n",
      "Epoch 20/20\n",
      "\u001b[1m71/71\u001b[0m \u001b[32m━━━━━━━━━━━━━━━━━━━━\u001b[0m\u001b[37m\u001b[0m \u001b[1m0s\u001b[0m 3ms/step - loss: 1593113.7500 - val_loss: 1522577.0000\n"
     ]
    }
   ],
   "source": [
    "# Entrainement du modèle sur 20 epochs (en mettre plus n'améliore pas les performances du CNN comme visible sur le graphe)\n",
    "history = model.fit(X_train, y_train, validation_split=0.2, epochs=20, batch_size=10)\n"
   ]
  },
  {
   "cell_type": "code",
   "execution_count": 29,
   "metadata": {},
   "outputs": [
    {
     "name": "stdout",
     "output_type": "stream",
     "text": [
      "\u001b[1m7/7\u001b[0m \u001b[32m━━━━━━━━━━━━━━━━━━━━\u001b[0m\u001b[37m\u001b[0m \u001b[1m1s\u001b[0m 47ms/step\n",
      "Average Euclidean distance from actual positions: 163.11 cm\n"
     ]
    }
   ],
   "source": [
    "# Evaluate the model on the test set\n",
    "#test_loss = model.evaluate(X_test_scaled, y_test)\n",
    "#print(\"Test loss (MSE):\", test_loss)\n",
    "\n",
    "from sklearn.metrics import mean_squared_error\n",
    "import numpy as np\n",
    "\n",
    "# Calculate predictions\n",
    "predictions = model.predict(X_test)\n",
    "\n",
    "# Calculate Euclidean distance between the predicted and actual positions\n",
    "errors = np.sqrt(np.sum((y_test - predictions)**2, axis=1))\n",
    "average_error = np.mean(errors)\n",
    "\n",
    "print(\"Average Euclidean distance from actual positions: {:.2f} cm\".format(average_error / 10))\n",
    "\n"
   ]
  },
  {
   "cell_type": "code",
   "execution_count": 30,
   "metadata": {},
   "outputs": [
    {
     "data": {
      "image/png": "[encoded data removed]",
      "text/plain": [
       "<Figure size 640x480 with 1 Axes>"
      ]
     },
     "metadata": {},
     "output_type": "display_data"
    }
   ],
   "source": [
    "import matplotlib.pyplot as plt\n",
    "\n",
    "# Plot training & validation loss values\n",
    "plt.plot(history.history['loss'], label='Train')\n",
    "plt.plot(history.history['val_loss'], label='Validation')\n",
    "plt.title('Model loss')\n",
    "plt.ylabel('Loss')\n",
    "plt.xlabel('Epoch')\n",
    "plt.legend(loc='upper right')\n",
    "plt.show()"
   ]
  },
  {
   "cell_type": "code",
   "execution_count": 4,
   "metadata": {},
   "outputs": [
    {
     "name": "stdout",
     "output_type": "stream",
     "text": [
      "cd VGGish\n",
      "python train_vggish_localization.py /home/onyxia/work/hackaton-acoustic/data/LivingRoom_preprocessed_hack/Human1/deconvoled_trim.npy /home/onyxia/work/hackaton-acoustic/data/LivingRoom_preprocessed_hack/Human1/centroid.npy --num_channels 4 --pretrained --num_epochs 100 --living\n"
     ]
    }
   ],
   "source": [
    "# Implementation VGGish pré-entraîné\n",
    "# On récupère l'implémentation VGGish du github, qui aura subi quelques modifications pour run\n",
    "DATASET_PATH = '/home/onyxia/work/hackaton-acoustic/data/LivingRoom_preprocessed_hack/Human1/'\n",
    "rir_path = os.path.join(DATASET_PATH, \"deconvoled_trim.npy\")\n",
    "centroid_path = os.path.join(DATASET_PATH, \"centroid.npy\")\n",
    "\n",
    "\n",
    "sys.path.insert(0, \"VGGish\")\n",
    "# VGGish pré-entrainé\n",
    "print(\"cd VGGish\")\n",
    "print(\"python train_vggish_localization.py \"+rir_path+\" \" + centroid_path + \" --num_channels 4 --pretrained --num_epochs 100 --living\")\n",
    "\n",
    "# l'execution de cette node créera un lien qu'il faudra mettre dans un terminal dans le fichier VGGish\n"
   ]
  },
  {
   "cell_type": "code",
   "execution_count": 5,
   "metadata": {},
   "outputs": [],
   "source": [
    "deconv = deconvolved_human1\n",
    "centroid = centroid_human1\n",
    "\n",
    "# Presque tout le code présent ici provient du github des scientifiques du papier\n",
    "# Valeurs par défaut pour le pretrained\n",
    "precutoff = 92850\n",
    "vggish_cutoff = 30950\n",
    "\n",
    "train_indices = np.load(\"/home/onyxia/work/hackaton-acoustic/indices/train_indices.npy\")\n",
    "test_indices = np.load(\"/home/onyxia/work/hackaton-acoustic/indices/test_indices.npy\")\n",
    "valid_indices = np.load(\"/home/onyxia/work/hackaton-acoustic/indices/valid_indices.npy\")\n",
    "\n",
    "test_waves = deconv[test_indices, :]\n",
    "test_waves =  test_waves[..., :precutoff]\n",
    "test_waves = torch.Tensor(test_waves).cuda()\n",
    "test_waves = test_waves[..., :vggish_cutoff]\n",
    "# uniquement si PAS multi-channel\n",
    "test_waves = torch.mean(test_waves, dim=1)\n",
    "\n",
    "train_xy = centroid[train_indices]\n",
    "test_xy = centroid[test_indices]\n",
    "valid_xy = centroid[valid_indices]\n",
    "\n",
    "train_mean = np.mean(train_xy, axis=0)\n",
    "train_std = np.std(train_xy, axis=0)\n",
    "\n",
    "test_xy =  (test_xy - train_mean) / (train_std + 1e-8)\n",
    "test_xy = torch.Tensor(test_xy).cuda()\n",
    "train_xy =  (train_xy - train_mean) / (train_std + 1e-8)\n",
    "train_xy = torch.Tensor(train_xy).cuda()\n",
    "valid_xy = (valid_xy - train_mean) / (train_std + 1e-8)\n",
    "valid_xy = torch.Tensor(valid_xy).cuda()\n",
    "\n",
    "\n",
    "# =On passe train_xy en numpy pour norm_val_min et morn_val_range\n",
    "train_xy_cpu = train_xy.cpu() \n",
    "train_xy_numpy = train_xy_cpu.numpy()\n",
    "\n",
    "# idem\n",
    "valid_xy_cpu = valid_xy.cpu()\n",
    "valid_xy_numpy = valid_xy_cpu.numpy()\n",
    "\n",
    "epsilon = 1e-2\n",
    "norm_val_min = np.min(np.concatenate((train_xy_numpy, valid_xy_numpy), axis=0))\n",
    "norm_val_range = np.max(np.concatenate((train_xy_numpy, valid_xy_numpy), axis=0)) - norm_val_min\n",
    "\n",
    "def postprocess_net_output(output):\n",
    "    output[:, :2] = norm_val_range * ((torch.tanh(output[:, :2]) * (1 + epsilon)) + 1) / 2 + norm_val_min\n",
    "    return output\n",
    "\n",
    "train_std_cuda = torch.Tensor(train_std).cuda()\n",
    "train_mean_cuda = torch.Tensor(train_mean).cuda()\n",
    "\n",
    "def unnormalize(xy):\n",
    "    return xy*(train_std_cuda + 1e-8) + train_mean_cuda"
   ]
  },
  {
   "cell_type": "code",
   "execution_count": 9,
   "metadata": {},
   "outputs": [
    {
     "name": "stdout",
     "output_type": "stream",
     "text": [
      "TEST ERROR\n",
      "[2059.7036   2481.7878   1615.8275   1983.3096   1861.4567   1954.1279\n",
      " 2311.1018   1370.0831    868.5585   1964.9523   2060.9573   1007.6387\n",
      " 1030.4963   1181.4265   1367.921    1373.263    2159.451    1515.61\n",
      " 1443.3212   1947.351    1853.6489   2121.0876   3095.4773   1787.378\n",
      " 1510.2603   1820.0658   1870.5145   1805.2034   2612.8435   1870.8109\n",
      "  368.4872   2019.905     530.0546   1461.0084   1476.0044   2028.7745\n",
      " 2040.1122   1494.7845   1017.7717   2523.7336   2267.8167   1472.138\n",
      "  359.49536   736.70746  1861.1543   1030.1173   2065.6636   2683.97\n",
      " 1819.068    2327.9277   1466.2649   2208.0325   2369.0398   1459.6116\n",
      " 1521.7677   1472.4453   1576.8138   1098.711    2409.6365   1356.5585\n",
      " 1690.6565   1738.9447   2186.737    2077.8418   1232.7205   1524.622\n",
      " 2334.5286   1036.0206   1788.7449   2592.9902   1835.1338   1019.65546\n",
      "   46.580345 2096.8098    833.8111   2153.0515   1483.2065   1131.1155\n",
      " 2347.8167    464.751    2035.7494    677.8007    882.86694  1046.3363\n",
      " 2185.5513   2250.8691   1971.6542   1370.2324    699.7895   2283.7698\n",
      " 1664.7897   1509.4209   1429.9563   2580.352    2133.1497   1909.1083\n",
      " 1919.9271   1456.4734   1947.7324   1377.5107  ]\n",
      "MEAN TEST ERROR\n",
      "1673.7798\n",
      "MED TEST ERROR\n",
      "1788.0615\n",
      "STD TEST ERROR\n",
      "578.7287\n"
     ]
    }
   ],
   "source": [
    "# Node d'évaluation du modèle pré-entraîné\n",
    "sys.path.insert(0, \"VGGish\")\n",
    "from VGGish.models import get_finetune_model\n",
    "\n",
    "MODEL_PATH = '/home/onyxia/work/hackaton-acoustic/VGGish/model.pt'\n",
    "if (os.path.exists(MODEL_PATH)):\n",
    "    file = torch.load(MODEL_PATH)\n",
    "    # Pour multi-channel, il faut CustomVGGish2(in_channels=4, out_channels=2)\n",
    "    model = get_finetune_model(pretrained=True, frozen=True, out_channels=2)\n",
    "    model.state_dict = file['model_state_dict']\n",
    "\n",
    "    test_errors = np.zeros(test_waves.shape[0], dtype=np.float32)\n",
    "\n",
    "    for i in range(test_waves.shape[0]):\n",
    "        with torch.no_grad():\n",
    "            results = torch.squeeze(postprocess_net_output(model(torch.unsqueeze(test_waves[i, :], axis=0)).view(-1, 1)))\n",
    "        \n",
    "        \n",
    "        test_errors[i] = torch.norm(unnormalize(results[:2]) - unnormalize(test_xy[i, :2])).item()\n",
    "\n",
    "    print(\"TEST ERROR\")\n",
    "    print(test_errors)\n",
    "    \n",
    "    print(\"MEAN TEST ERROR:\",flush=True)\n",
    "    print(np.mean(test_errors / 10 ), \"cm\")\n",
    "    print(\"MED TEST ERROR\")\n",
    "    print(np.median(test_errors /10), \"cm\")\n",
    "    print(\"STD TEST ERROR\")\n",
    "    print(np.std(test_errors / 10), \"cm\")\n",
    "\n",
    "    np.save(os.path.join('/home/onyxia/work/hackaton-acoustic/VGGish/errors', 'test_errors.npy'), np.array(test_errors, dtype=np.float32))    "
   ]
  },
  {
   "cell_type": "code",
   "execution_count": 6,
   "metadata": {},
   "outputs": [],
   "source": [
    "precutoff = 92850\n",
    "vggish_cutoff = 15475"
   ]
  },
  {
   "cell_type": "code",
   "execution_count": 7,
   "metadata": {},
   "outputs": [
    {
     "name": "stdout",
     "output_type": "stream",
     "text": [
      "cd VGGish\n",
      "python train_vggish_localization.py /home/onyxia/work/hackaton-acoustic/data/LivingRoom_preprocessed_hack/Human1/deconvoled_trim.npy /home/onyxia/work/hackaton-acoustic/data/LivingRoom_preprocessed_hack/Human1/centroid.npy --num_channels 4 --multi_chan --num_epochs 100 --living\n"
     ]
    }
   ],
   "source": [
    "# Implementation VGGish multi-channel\n",
    "# On récupère l'implémentation VGGish du github, qui aura subi quelques modifications pour run\n",
    "DATASET_PATH = '/home/onyxia/work/hackaton-acoustic/data/LivingRoom_preprocessed_hack/Human1/'\n",
    "rir_path = os.path.join(DATASET_PATH, \"deconvoled_trim.npy\")\n",
    "centroid_path = os.path.join(DATASET_PATH, \"centroid.npy\")\n",
    "\n",
    "\n",
    "sys.path.insert(0, \"VGGish\")\n",
    "# VGGish multi-channel\n",
    "print(\"cd VGGish\")\n",
    "print(\"python train_vggish_localization.py \"+rir_path+\" \" + centroid_path + \" --num_channels 4 --multi_chan --num_epochs 100 --living\")\n",
    "\n",
    "# l'execution de cette node créera un lien qu'il faudra mettre dans un terminal dans le fichier VGGish\n"
   ]
  },
  {
   "cell_type": "code",
   "execution_count": 8,
   "metadata": {},
   "outputs": [
    {
     "name": "stderr",
     "output_type": "stream",
     "text": [
      "/opt/mamba/lib/python3.11/site-packages/torch/functional.py:660: UserWarning: stft with return_complex=False is deprecated. In a future pytorch release, stft will return complex tensors for all inputs, and return_complex=False will raise an error.\n",
      "Note: you can still call torch.view_as_real on the complex output to recover the old return format. (Triggered internally at ../aten/src/ATen/native/SpectralOps.cpp:874.)\n",
      "  return _VF.stft(input, n_fft, hop_length, win_length, window,  # type: ignore[attr-defined]\n"
     ]
    },
    {
     "ename": "RuntimeError",
     "evalue": "shape '[1, 30950, 194, 64]' is invalid for input of size 12416",
     "output_type": "error",
     "traceback": [
      "\u001b[0;31m---------------------------------------------------------------------------\u001b[0m",
      "\u001b[0;31mRuntimeError\u001b[0m                              Traceback (most recent call last)",
      "\u001b[1;32m/home/onyxia/work/hackaton-acoustic/acoustic.ipynb Cell 29\u001b[0m line \u001b[0;36m1\n\u001b[1;32m     <a href='vscode-notebook-cell://user-eme-783581-0.user.lab.sspcloud.fr/home/onyxia/work/hackaton-acoustic/acoustic.ipynb#X36sdnNjb2RlLXJlbW90ZQ%3D%3D?line=13'>14</a>\u001b[0m \u001b[39mfor\u001b[39;00m i \u001b[39min\u001b[39;00m \u001b[39mrange\u001b[39m(test_waves\u001b[39m.\u001b[39mshape[\u001b[39m0\u001b[39m]):\n\u001b[1;32m     <a href='vscode-notebook-cell://user-eme-783581-0.user.lab.sspcloud.fr/home/onyxia/work/hackaton-acoustic/acoustic.ipynb#X36sdnNjb2RlLXJlbW90ZQ%3D%3D?line=14'>15</a>\u001b[0m     \u001b[39mwith\u001b[39;00m torch\u001b[39m.\u001b[39mno_grad():\n\u001b[0;32m---> <a href='vscode-notebook-cell://user-eme-783581-0.user.lab.sspcloud.fr/home/onyxia/work/hackaton-acoustic/acoustic.ipynb#X36sdnNjb2RlLXJlbW90ZQ%3D%3D?line=15'>16</a>\u001b[0m         results \u001b[39m=\u001b[39m torch\u001b[39m.\u001b[39msqueeze(postprocess_net_output(model(torch\u001b[39m.\u001b[39;49munsqueeze(test_waves[i, :], axis\u001b[39m=\u001b[39;49m\u001b[39m0\u001b[39;49m))\u001b[39m.\u001b[39mview(\u001b[39m-\u001b[39m\u001b[39m1\u001b[39m, \u001b[39m1\u001b[39m)))\n\u001b[1;32m     <a href='vscode-notebook-cell://user-eme-783581-0.user.lab.sspcloud.fr/home/onyxia/work/hackaton-acoustic/acoustic.ipynb#X36sdnNjb2RlLXJlbW90ZQ%3D%3D?line=18'>19</a>\u001b[0m     test_errors[i] \u001b[39m=\u001b[39m torch\u001b[39m.\u001b[39mnorm(unnormalize(results[:\u001b[39m2\u001b[39m]) \u001b[39m-\u001b[39m unnormalize(test_xy[i, :\u001b[39m2\u001b[39m]))\u001b[39m.\u001b[39mitem()\n\u001b[1;32m     <a href='vscode-notebook-cell://user-eme-783581-0.user.lab.sspcloud.fr/home/onyxia/work/hackaton-acoustic/acoustic.ipynb#X36sdnNjb2RlLXJlbW90ZQ%3D%3D?line=20'>21</a>\u001b[0m \u001b[39mprint\u001b[39m(\u001b[39m\"\u001b[39m\u001b[39mTEST ERROR\u001b[39m\u001b[39m\"\u001b[39m)\n",
      "File \u001b[0;32m/opt/mamba/lib/python3.11/site-packages/torch/nn/modules/module.py:1511\u001b[0m, in \u001b[0;36mModule._wrapped_call_impl\u001b[0;34m(self, *args, **kwargs)\u001b[0m\n\u001b[1;32m   1509\u001b[0m     \u001b[39mreturn\u001b[39;00m \u001b[39mself\u001b[39m\u001b[39m.\u001b[39m_compiled_call_impl(\u001b[39m*\u001b[39margs, \u001b[39m*\u001b[39m\u001b[39m*\u001b[39mkwargs)  \u001b[39m# type: ignore[misc]\u001b[39;00m\n\u001b[1;32m   1510\u001b[0m \u001b[39melse\u001b[39;00m:\n\u001b[0;32m-> 1511\u001b[0m     \u001b[39mreturn\u001b[39;00m \u001b[39mself\u001b[39;49m\u001b[39m.\u001b[39;49m_call_impl(\u001b[39m*\u001b[39;49margs, \u001b[39m*\u001b[39;49m\u001b[39m*\u001b[39;49mkwargs)\n",
      "File \u001b[0;32m/opt/mamba/lib/python3.11/site-packages/torch/nn/modules/module.py:1520\u001b[0m, in \u001b[0;36mModule._call_impl\u001b[0;34m(self, *args, **kwargs)\u001b[0m\n\u001b[1;32m   1515\u001b[0m \u001b[39m# If we don't have any hooks, we want to skip the rest of the logic in\u001b[39;00m\n\u001b[1;32m   1516\u001b[0m \u001b[39m# this function, and just call forward.\u001b[39;00m\n\u001b[1;32m   1517\u001b[0m \u001b[39mif\u001b[39;00m \u001b[39mnot\u001b[39;00m (\u001b[39mself\u001b[39m\u001b[39m.\u001b[39m_backward_hooks \u001b[39mor\u001b[39;00m \u001b[39mself\u001b[39m\u001b[39m.\u001b[39m_backward_pre_hooks \u001b[39mor\u001b[39;00m \u001b[39mself\u001b[39m\u001b[39m.\u001b[39m_forward_hooks \u001b[39mor\u001b[39;00m \u001b[39mself\u001b[39m\u001b[39m.\u001b[39m_forward_pre_hooks\n\u001b[1;32m   1518\u001b[0m         \u001b[39mor\u001b[39;00m _global_backward_pre_hooks \u001b[39mor\u001b[39;00m _global_backward_hooks\n\u001b[1;32m   1519\u001b[0m         \u001b[39mor\u001b[39;00m _global_forward_hooks \u001b[39mor\u001b[39;00m _global_forward_pre_hooks):\n\u001b[0;32m-> 1520\u001b[0m     \u001b[39mreturn\u001b[39;00m forward_call(\u001b[39m*\u001b[39;49margs, \u001b[39m*\u001b[39;49m\u001b[39m*\u001b[39;49mkwargs)\n\u001b[1;32m   1522\u001b[0m \u001b[39mtry\u001b[39;00m:\n\u001b[1;32m   1523\u001b[0m     result \u001b[39m=\u001b[39m \u001b[39mNone\u001b[39;00m\n",
      "File \u001b[0;32m~/work/hackaton-acoustic/VGGish/models.py:205\u001b[0m, in \u001b[0;36mCustomVGGish2.forward\u001b[0;34m(self, x)\u001b[0m\n\u001b[1;32m    204\u001b[0m \u001b[39mdef\u001b[39;00m \u001b[39mforward\u001b[39m(\u001b[39mself\u001b[39m, x):\n\u001b[0;32m--> 205\u001b[0m     x \u001b[39m=\u001b[39m \u001b[39mself\u001b[39;49m\u001b[39m.\u001b[39;49m_preprocess(x)\n\u001b[1;32m    206\u001b[0m     x \u001b[39m=\u001b[39m VGG\u001b[39m.\u001b[39mforward(\u001b[39mself\u001b[39m, x)\n\u001b[1;32m    207\u001b[0m     x \u001b[39m=\u001b[39m \u001b[39mself\u001b[39m\u001b[39m.\u001b[39mmlp(x)\n",
      "File \u001b[0;32m~/work/hackaton-acoustic/VGGish/models.py:237\u001b[0m, in \u001b[0;36mCustomVGGish2._preprocess\u001b[0;34m(self, x)\u001b[0m\n\u001b[1;32m    221\u001b[0m x \u001b[39m=\u001b[39m mel_features\u001b[39m.\u001b[39mlog_mel_spectrogram(\n\u001b[1;32m    222\u001b[0m     x,\n\u001b[1;32m    223\u001b[0m     audio_sample_rate\u001b[39m=\u001b[39mvggish_params\u001b[39m.\u001b[39mSAMPLE_RATE,\n\u001b[0;32m   (...)\u001b[0m\n\u001b[1;32m    228\u001b[0m     lower_edge_hertz\u001b[39m=\u001b[39mvggish_params\u001b[39m.\u001b[39mMEL_MIN_HZ,\n\u001b[1;32m    229\u001b[0m     upper_edge_hertz\u001b[39m=\u001b[39mvggish_params\u001b[39m.\u001b[39mMEL_MAX_HZ)\n\u001b[1;32m    231\u001b[0m \u001b[39mif\u001b[39;00m reshape:\n\u001b[1;32m    232\u001b[0m     \u001b[39m#print(\"orig siez\")\u001b[39;00m\n\u001b[1;32m    233\u001b[0m     \u001b[39m#print(original_size)\u001b[39;00m\n\u001b[1;32m    234\u001b[0m     \u001b[39m#print(\"XSIZE\")\u001b[39;00m\n\u001b[1;32m    235\u001b[0m     \u001b[39m#print(x.size())\u001b[39;00m\n\u001b[1;32m    236\u001b[0m     \u001b[39m#print(((original_size[0], original_size[1], x.size()[1], x.size()[2])))\u001b[39;00m\n\u001b[0;32m--> 237\u001b[0m     x \u001b[39m=\u001b[39m x\u001b[39m.\u001b[39;49mview(original_size[\u001b[39m0\u001b[39;49m], original_size[\u001b[39m1\u001b[39;49m], x\u001b[39m.\u001b[39;49msize()[\u001b[39m1\u001b[39;49m], x\u001b[39m.\u001b[39;49msize()[\u001b[39m2\u001b[39;49m])\n\u001b[1;32m    238\u001b[0m     \u001b[39m#print(\"XSIZE after view\")\u001b[39;00m\n\u001b[1;32m    239\u001b[0m     \u001b[39m#print(x.size())\u001b[39;00m\n\u001b[1;32m    241\u001b[0m \u001b[39mreturn\u001b[39;00m x\n",
      "\u001b[0;31mRuntimeError\u001b[0m: shape '[1, 30950, 194, 64]' is invalid for input of size 12416"
     ]
    }
   ],
   "source": [
    "# Node d'évaluation du modèle multi-channel\n",
    "sys.path.insert(0, \"VGGish\")\n",
    "from VGGish.models import CustomVGGish2\n",
    "\n",
    "MODEL_PATH = '/home/onyxia/work/hackaton-acoustic/VGGish/model.pt'\n",
    "if (os.path.exists(MODEL_PATH)):\n",
    "    file = torch.load(MODEL_PATH)\n",
    "    # Pour multi-channel, il faut CustomVGGish2(in_channels=4, out_channels=2)\n",
    "    model = CustomVGGish2(in_channels=4, out_channels=2)\n",
    "    model.state_dict = file['model_state_dict']\n",
    "\n",
    "    test_errors = np.zeros(test_waves.shape[0], dtype=np.float32)\n",
    "\n",
    "    for i in range(test_waves.shape[0]):\n",
    "        with torch.no_grad():\n",
    "            results = torch.squeeze(postprocess_net_output(model(torch.unsqueeze(test_waves[i, :], axis=0)).view(-1, 1)))\n",
    "        \n",
    "        \n",
    "        test_errors[i] = torch.norm(unnormalize(results[:2]) - unnormalize(test_xy[i, :2])).item()\n",
    "\n",
    "    print(\"TEST ERROR\")\n",
    "    print(test_errors)\n",
    "    \n",
    "    print(\"MEAN TEST ERROR\",flush=True)\n",
    "    print(np.mean(test_errors / 10), \"cm\")\n",
    "    print(\"MED TEST ERROR\")\n",
    "    print(np.median(test_errors / 10), \"cm\")\n",
    "    print(\"STD TEST ERROR\")\n",
    "    print(np.std(test_errors / 10), \"cm\")\n",
    "\n",
    "    np.save(os.path.join('/home/onyxia/work/hackaton-acoustic/VGGish/errors', 'test_errors.npy'), np.array(test_errors, dtype=np.float32))    "
   ]
  },
  {
   "cell_type": "markdown",
   "metadata": {},
   "source": [
    "### Malgré l'erreur, on a quand même des resultats disponibles sur le terminal une fois la commande du multi-channel terminée:\n",
    "MEAN TEST ERROR : 35.86 cm\n",
    "\n",
    "MED TEST ERROR : 35.08 cm\n",
    "\n",
    "STD TEST ERROR : 22.86 cm"
   ]
  },
  {
   "cell_type": "code",
   "execution_count": 14,
   "metadata": {},
   "outputs": [
    {
     "data": {
      "image/png": "[encoded data removed]",
      "text/plain": [
       "<Figure size 640x480 with 1 Axes>"
      ]
     },
     "metadata": {},
     "output_type": "display_data"
    }
   ],
   "source": [
    "# Plot de nos données face à celles du papier\n",
    "multi_chan_mean = 35.86\n",
    "pretrained_mean = 167.37798\n",
    "multi_chan_std = 22.856067\n",
    "pretrained_std = 57.87287\n",
    "paper_pretrained_mean = 147.0\n",
    "paper_pretrained_std = 86.9\n",
    "paper_multichannel_mean = 23.6\n",
    "paper_multichannel_std = 15.0\n",
    "\n",
    "\n",
    "# Data\n",
    "categories = ['Multi-channel', 'Pré-entraîné']\n",
    "means_data = [multi_chan_mean, pretrained_mean]\n",
    "stds_data = [multi_chan_std, pretrained_std]\n",
    "means_paper = [paper_multichannel_mean, paper_pretrained_mean]\n",
    "stds_paper = [paper_multichannel_std, paper_pretrained_std]\n",
    "\n",
    "x = np.arange(len(categories))  # the label locations\n",
    "width = 0.35  # the width of the bars\n",
    "\n",
    "# Plot\n",
    "fig, ax = plt.subplots()\n",
    "rects1 = ax.bar(x - width/2, means_data, width, yerr=stds_data, label='Données VGGish')\n",
    "rects2 = ax.bar(x + width/2, means_paper, width, yerr=stds_paper, label='Données VGGish papier')\n",
    "\n",
    "# Add labels, title, and legend\n",
    "ax.set_ylabel('Moyenne')\n",
    "ax.set_title('Comparaison des moyennes et ecart-types')\n",
    "ax.set_xticks(x)\n",
    "ax.set_xticklabels(categories)\n",
    "ax.legend()\n",
    "\n",
    "plt.xticks(rotation=45)\n",
    "plt.tight_layout()\n",
    "plt.show()"
   ]
  }
 ],
 "metadata": {
  "kernelspec": {
   "display_name": "base",
   "language": "python",
   "name": "python3"
  },
  "language_info": {
   "codemirror_mode": {
    "name": "ipython",
    "version": 3
   },
   "file_extension": ".py",
   "mimetype": "text/x-python",
   "name": "python",
   "nbconvert_exporter": "python",
   "pygments_lexer": "ipython3",
   "version": "3.11.6"
  }
 },
 "nbformat": 4,
 "nbformat_minor": 2
}
